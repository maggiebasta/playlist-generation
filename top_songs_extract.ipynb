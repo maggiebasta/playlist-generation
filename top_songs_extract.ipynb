{
 "cells": [
  {
   "cell_type": "code",
   "execution_count": 1,
   "metadata": {},
   "outputs": [],
   "source": [
    "import json\n",
    "import os\n",
    "\n",
    "import numpy as np\n",
    "import pandas as pd\n",
    "import matplotlib\n",
    "import matplotlib.pyplot as plt\n",
    "\n",
    "import seaborn as sns\n",
    "sns.set()\n",
    "\n",
    "import warnings\n",
    "warnings.filterwarnings(\"ignore\")"
   ]
  },
  {
   "cell_type": "code",
   "execution_count": 2,
   "metadata": {},
   "outputs": [],
   "source": [
    "slices = [f for f in os.listdir('data/MPD') if f.endswith(\".json\")]\n",
    "slice_jsons = [json.load(open(f\"data/MPD/{slc}\", 'r')) for slc in slices]\n",
    "slice_dfs = [\n",
    "    pd.DataFrame.from_dict(slc['playlists'], orient='columns')\n",
    "    for slc in slice_jsons\n",
    "]\n",
    "df_mpd = pd.concat(slice_dfs, ignore_index=True)"
   ]
  },
  {
   "cell_type": "markdown",
   "metadata": {},
   "source": [
    "# Inspect the Million Playlist Dataset \"slices\""
   ]
  },
  {
   "cell_type": "code",
   "execution_count": 3,
   "metadata": {},
   "outputs": [
    {
     "data": {
      "text/html": [
       "<div>\n",
       "<style scoped>\n",
       "    .dataframe tbody tr th:only-of-type {\n",
       "        vertical-align: middle;\n",
       "    }\n",
       "\n",
       "    .dataframe tbody tr th {\n",
       "        vertical-align: top;\n",
       "    }\n",
       "\n",
       "    .dataframe thead th {\n",
       "        text-align: right;\n",
       "    }\n",
       "</style>\n",
       "<table border=\"1\" class=\"dataframe\">\n",
       "  <thead>\n",
       "    <tr style=\"text-align: right;\">\n",
       "      <th></th>\n",
       "      <th>name</th>\n",
       "      <th>collaborative</th>\n",
       "      <th>pid</th>\n",
       "      <th>modified_at</th>\n",
       "      <th>num_tracks</th>\n",
       "      <th>num_albums</th>\n",
       "      <th>num_followers</th>\n",
       "      <th>tracks</th>\n",
       "      <th>num_edits</th>\n",
       "      <th>duration_ms</th>\n",
       "      <th>num_artists</th>\n",
       "      <th>description</th>\n",
       "    </tr>\n",
       "  </thead>\n",
       "  <tbody>\n",
       "    <tr>\n",
       "      <td>0</td>\n",
       "      <td>Throwbacks</td>\n",
       "      <td>false</td>\n",
       "      <td>0</td>\n",
       "      <td>1493424000</td>\n",
       "      <td>52</td>\n",
       "      <td>47</td>\n",
       "      <td>1</td>\n",
       "      <td>[{'pos': 0, 'artist_name': 'Missy Elliott', 't...</td>\n",
       "      <td>6</td>\n",
       "      <td>11532414</td>\n",
       "      <td>37</td>\n",
       "      <td>NaN</td>\n",
       "    </tr>\n",
       "    <tr>\n",
       "      <td>1</td>\n",
       "      <td>Awesome Playlist</td>\n",
       "      <td>false</td>\n",
       "      <td>1</td>\n",
       "      <td>1506556800</td>\n",
       "      <td>39</td>\n",
       "      <td>23</td>\n",
       "      <td>1</td>\n",
       "      <td>[{'pos': 0, 'artist_name': 'Survivor', 'track_...</td>\n",
       "      <td>5</td>\n",
       "      <td>11656470</td>\n",
       "      <td>21</td>\n",
       "      <td>NaN</td>\n",
       "    </tr>\n",
       "    <tr>\n",
       "      <td>2</td>\n",
       "      <td>korean</td>\n",
       "      <td>false</td>\n",
       "      <td>2</td>\n",
       "      <td>1505692800</td>\n",
       "      <td>64</td>\n",
       "      <td>51</td>\n",
       "      <td>1</td>\n",
       "      <td>[{'pos': 0, 'artist_name': 'Hoody', 'track_uri...</td>\n",
       "      <td>18</td>\n",
       "      <td>14039958</td>\n",
       "      <td>31</td>\n",
       "      <td>NaN</td>\n",
       "    </tr>\n",
       "    <tr>\n",
       "      <td>3</td>\n",
       "      <td>mat</td>\n",
       "      <td>false</td>\n",
       "      <td>3</td>\n",
       "      <td>1501027200</td>\n",
       "      <td>126</td>\n",
       "      <td>107</td>\n",
       "      <td>1</td>\n",
       "      <td>[{'pos': 0, 'artist_name': 'Camille Saint-Saën...</td>\n",
       "      <td>4</td>\n",
       "      <td>28926058</td>\n",
       "      <td>86</td>\n",
       "      <td>NaN</td>\n",
       "    </tr>\n",
       "    <tr>\n",
       "      <td>4</td>\n",
       "      <td>90s</td>\n",
       "      <td>false</td>\n",
       "      <td>4</td>\n",
       "      <td>1401667200</td>\n",
       "      <td>17</td>\n",
       "      <td>16</td>\n",
       "      <td>2</td>\n",
       "      <td>[{'pos': 0, 'artist_name': 'The Smashing Pumpk...</td>\n",
       "      <td>7</td>\n",
       "      <td>4335282</td>\n",
       "      <td>16</td>\n",
       "      <td>NaN</td>\n",
       "    </tr>\n",
       "  </tbody>\n",
       "</table>\n",
       "</div>"
      ],
      "text/plain": [
       "               name collaborative  pid  modified_at  num_tracks  num_albums  \\\n",
       "0        Throwbacks         false    0   1493424000          52          47   \n",
       "1  Awesome Playlist         false    1   1506556800          39          23   \n",
       "2           korean          false    2   1505692800          64          51   \n",
       "3               mat         false    3   1501027200         126         107   \n",
       "4               90s         false    4   1401667200          17          16   \n",
       "\n",
       "   num_followers                                             tracks  \\\n",
       "0              1  [{'pos': 0, 'artist_name': 'Missy Elliott', 't...   \n",
       "1              1  [{'pos': 0, 'artist_name': 'Survivor', 'track_...   \n",
       "2              1  [{'pos': 0, 'artist_name': 'Hoody', 'track_uri...   \n",
       "3              1  [{'pos': 0, 'artist_name': 'Camille Saint-Saën...   \n",
       "4              2  [{'pos': 0, 'artist_name': 'The Smashing Pumpk...   \n",
       "\n",
       "   num_edits  duration_ms  num_artists description  \n",
       "0          6     11532414           37         NaN  \n",
       "1          5     11656470           21         NaN  \n",
       "2         18     14039958           31         NaN  \n",
       "3          4     28926058           86         NaN  \n",
       "4          7      4335282           16         NaN  "
      ]
     },
     "execution_count": 3,
     "metadata": {},
     "output_type": "execute_result"
    }
   ],
   "source": [
    "df_mpd.head()"
   ]
  },
  {
   "cell_type": "markdown",
   "metadata": {},
   "source": [
    "# Look at distribution of playlist followers"
   ]
  },
  {
   "cell_type": "code",
   "execution_count": 4,
   "metadata": {},
   "outputs": [
    {
     "data": {
      "image/png": "[encoded data removed]",
      "text/plain": [
       "<Figure size 1296x288 with 1 Axes>"
      ]
     },
     "metadata": {
      "needs_background": "light"
     },
     "output_type": "display_data"
    }
   ],
   "source": [
    "fig, ax = plt.subplots(1, 1, figsize=(18, 4))\n",
    "ax.hist(df_mpd.num_followers, bins=250, log=True)\n",
    "ax.set_title(\"Distribution of Playlist Followers\")\n",
    "plt.show()"
   ]
  },
  {
   "cell_type": "code",
   "execution_count": 5,
   "metadata": {},
   "outputs": [
    {
     "name": "stdout",
     "output_type": "stream",
     "text": [
      "Percent of playlists with more than 1 follower: 24.7%\n"
     ]
    }
   ],
   "source": [
    "percent_gt_1 = len(df_mpd.loc[df_mpd.num_followers>1])/len(df_mpd)\n",
    "print(f\"Percent of playlists with more than 1 follower: {percent_gt_1*100}%\")"
   ]
  },
  {
   "cell_type": "markdown",
   "metadata": {},
   "source": [
    "# Look at Most Common Songs, Albums and Artists"
   ]
  },
  {
   "cell_type": "markdown",
   "metadata": {},
   "source": [
    "**Global dicionaries**"
   ]
  },
  {
   "cell_type": "code",
   "execution_count": 13,
   "metadata": {},
   "outputs": [],
   "source": [
    "# Look up tables for URIs\n",
    "ArtistNames = {}\n",
    "SongNames = {}\n",
    "AlbumNames = {}\n",
    "\n",
    "# Counts for top values\n",
    "SongCounts = {}\n",
    "ArtistCounts = {}\n",
    "AlbumCounts = {}"
   ]
  },
  {
   "cell_type": "markdown",
   "metadata": {},
   "source": [
    "**Iterate to get counts**"
   ]
  },
  {
   "cell_type": "code",
   "execution_count": 14,
   "metadata": {},
   "outputs": [],
   "source": [
    "for tracks in df_mpd.tracks:\n",
    "    for track in tracks:\n",
    "        # update counts\n",
    "        SongCounts[track['track_uri']] = SongCounts.get(track['track_uri'], 0) + 1\n",
    "        ArtistCounts[track['artist_uri']] = ArtistCounts.get(track['artist_uri'], 0) + 1\n",
    "        AlbumCounts[track['album_uri']] = AlbumCounts.get(track['album_uri'], 0) + 1\n",
    "        \n",
    "        # update uris to name pairs\n",
    "        SongNames[track['track_uri']] = track['track_name']\n",
    "        ArtistNames[track['artist_uri']] = track['artist_name']\n",
    "        AlbumNames[track['album_uri']] = track['album_name']"
   ]
  },
  {
   "cell_type": "markdown",
   "metadata": {},
   "source": [
    "**Plot count distributions**"
   ]
  },
  {
   "cell_type": "code",
   "execution_count": 15,
   "metadata": {},
   "outputs": [
    {
     "data": {
      "image/png": "[encoded data removed]",
      "text/plain": [
       "<Figure size 1296x288 with 3 Axes>"
      ]
     },
     "metadata": {
      "needs_background": "light"
     },
     "output_type": "display_data"
    }
   ],
   "source": [
    "fig, axs = plt.subplots(1, 3, figsize=(18, 4))\n",
    "axs[0].hist(SongCounts.values(), bins=20, log=True)\n",
    "axs[1].hist(ArtistCounts.values(), bins=20, log=True)\n",
    "axs[2].hist(AlbumCounts.values(), bins=20, log=True)\n",
    "\n",
    "axs[0].set_title(\"Distribution of Song Counts\")\n",
    "axs[1].set_title(\"Distribution of Artist Counts\")\n",
    "axs[2].set_title(\"Distribution of Album Counts\")\n",
    "\n",
    "plt.show()"
   ]
  },
  {
   "cell_type": "markdown",
   "metadata": {},
   "source": [
    "**Percent of songs appearing on more than a given number of playlists**"
   ]
  },
  {
   "cell_type": "code",
   "execution_count": 21,
   "metadata": {},
   "outputs": [
    {
     "name": "stdout",
     "output_type": "stream",
     "text": [
      "Total number of songs seen in the MPD: 93139\n"
     ]
    }
   ],
   "source": [
    "song_count_series = pd.Series(list(SongCounts.values()), index=list(SongCounts.keys()))\n",
    "\n",
    "print(f\"Total number of songs seen in the MPD: {len(song_count_vals)}\")"
   ]
  },
  {
   "cell_type": "code",
   "execution_count": 24,
   "metadata": {},
   "outputs": [
    {
     "data": {
      "image/png": "[encoded data removed]",
      "text/plain": [
       "<Figure size 1296x288 with 1 Axes>"
      ]
     },
     "metadata": {
      "needs_background": "light"
     },
     "output_type": "display_data"
    }
   ],
   "source": [
    "xs = range(0, song_count_series.max())\n",
    "ys = [len(song_count_series.loc[song_count_series>x])/len(song_count_series) for x in xs]\n",
    "\n",
    "fig, ax = plt.subplots(1, 1, figsize=(18, 4))\n",
    "ax.plot(xs, ys)\n",
    "ax.set_xlabel(\"Number of playlist appearances\")\n",
    "ax.set_ylabel(\"Percent of songs\")\n",
    "plt.show()"
   ]
  },
  {
   "cell_type": "code",
   "execution_count": 23,
   "metadata": {},
   "outputs": [
    {
     "data": {
      "text/plain": [
       "[(0, 1.0),\n",
       " (1, 0.33272850256068887),\n",
       " (2, 0.19714620083960532),\n",
       " (3, 0.14128345805731218),\n",
       " (4, 0.10949226425020668),\n",
       " (5, 0.08967242508508788),\n",
       " (6, 0.07583289492049518),\n",
       " (7, 0.06547203641868606),\n",
       " (8, 0.05754839540901233),\n",
       " (9, 0.05126746046231976),\n",
       " (10, 0.04618902930029311),\n",
       " (11, 0.04222720879545625),\n",
       " (12, 0.038651907364262016),\n",
       " (13, 0.035366495238299746),\n",
       " (14, 0.03237097241756944),\n",
       " (15, 0.03005185797571372),\n",
       " (16, 0.02763611376544734),\n",
       " (17, 0.026025617625269757),\n",
       " (18, 0.024211125307336347),\n",
       " (19, 0.022643575730896832),\n",
       " (20, 0.02122633912754056),\n",
       " (21, 0.01977689260138073),\n",
       " (22, 0.01873543843073256),\n",
       " (23, 0.017640301055411804),\n",
       " (24, 0.016577373602894598),\n",
       " (25, 0.015654022482526116),\n",
       " (26, 0.014623304952812463),\n",
       " (27, 0.013839530164592705),\n",
       " (28, 0.013066492017307465),\n",
       " (29, 0.01231492715189126),\n",
       " (30, 0.011735148541427329),\n",
       " (31, 0.011166106571897916),\n",
       " (32, 0.010564854679564951),\n",
       " (33, 0.010060232555642642),\n",
       " (34, 0.009609293636392919),\n",
       " (35, 0.009147618076208678),\n",
       " (36, 0.008642995952286368),\n",
       " (37, 0.008235003596774712),\n",
       " (38, 0.007923641009673714),\n",
       " (39, 0.007526385295096576),\n",
       " (40, 0.007172076144257507),\n",
       " (41, 0.006828503634352956),\n",
       " (42, 0.006538614329120992),\n",
       " (43, 0.006184305178281922),\n",
       " (44, 0.005948099077722544),\n",
       " (45, 0.005647473131556061),\n",
       " (46, 0.005357583826324096),\n",
       " (47, 0.00499253803455051),\n",
       " (48, 0.004777805215860166),\n",
       " (49, 0.004466442628759166),\n",
       " (50, 0.004187289964461718),\n",
       " (51, 0.004047713632312994),\n",
       " (52, 0.003875927377360719),\n",
       " (53, 0.0037578243270810292),\n",
       " (54, 0.0036075113539977884),\n",
       " (55, 0.003435725099045513),\n",
       " (56, 0.003263938844093237),\n",
       " (57, 0.003070679307271927),\n",
       " (58, 0.0029525762569922375),\n",
       " (59, 0.002845209847647065),\n",
       " (60, 0.0027163701564328585),\n",
       " (61, 0.0026090037470876863),\n",
       " (62, 0.002523110619611548),\n",
       " (63, 0.002415744210266376),\n",
       " (64, 0.0022976411599866867),\n",
       " (65, 0.002222484673445066),\n",
       " (66, 0.0020506984184927904),\n",
       " (67, 0.0020077518547547213),\n",
       " (68, 0.0019218587272785835),\n",
       " (69, 0.0018574388816714803),\n",
       " (70, 0.001750072472326308),\n",
       " (71, 0.0016427060629811358),\n",
       " (72, 0.0015890228583085495),\n",
       " (73, 0.0015353396536359634),\n",
       " (74, 0.0014279732442907913),\n",
       " (75, 0.001374290039618205),\n",
       " (76, 0.0013420801168146533),\n",
       " (77, 0.0012347137074694811),\n",
       " (78, 0.0011595572209278605),\n",
       " (79, 0.0011273472981243088),\n",
       " (80, 0.001095137375320757),\n",
       " (81, 0.001041454170648171),\n",
       " (82, 0.000987770965975585),\n",
       " (83, 0.0009555610431720332),\n",
       " (84, 0.0009340877613029987),\n",
       " (85, 0.0009018778384994471),\n",
       " (86, 0.0008481946338268609),\n",
       " (87, 0.0008374579928923436),\n",
       " (88, 0.0007945114291542747),\n",
       " (89, 0.0007623015063507231),\n",
       " (90, 0.0007300915835471714),\n",
       " (91, 0.0006978816607436198),\n",
       " (92, 0.0006334618151365164),\n",
       " (93, 0.0006227251742019992),\n",
       " (94, 0.0005797786104639303),\n",
       " (95, 0.0005690419695294131),\n",
       " (96, 0.0005690419695294131),\n",
       " (97, 0.0005260954057913441),\n",
       " (98, 0.0005046221239223096),\n",
       " (99, 0.000472412201118758),\n",
       " (100, 0.0004616755601842408),\n",
       " (101, 0.0004294656373806891),\n",
       " (102, 0.0004079923555116546),\n",
       " (103, 0.0003972557145771374),\n",
       " (104, 0.0003972557145771374),\n",
       " (105, 0.0003972557145771374),\n",
       " (106, 0.0003972557145771374),\n",
       " (107, 0.00038651907364262015),\n",
       " (108, 0.0003757824327081029),\n",
       " (109, 0.0003650457917735857),\n",
       " (110, 0.0003543091508390685),\n",
       " (111, 0.00034357250990455125),\n",
       " (112, 0.00034357250990455125),\n",
       " (113, 0.0003220992280355168),\n",
       " (114, 0.0003113625871009996),\n",
       " (115, 0.0003113625871009996),\n",
       " (116, 0.0002898893052319651),\n",
       " (117, 0.0002684160233629307),\n",
       " (118, 0.0002684160233629307),\n",
       " (119, 0.0002684160233629307),\n",
       " (120, 0.0002684160233629307),\n",
       " (121, 0.00022546945962486178),\n",
       " (122, 0.0002039961777558273),\n",
       " (123, 0.0002039961777558273),\n",
       " (124, 0.00017178625495227563),\n",
       " (125, 0.0001610496140177584),\n",
       " (126, 0.00013957633214872395),\n",
       " (127, 0.00013957633214872395),\n",
       " (128, 0.00013957633214872395),\n",
       " (129, 0.00012883969121420673),\n",
       " (130, 0.00010736640934517228),\n",
       " (131, 9.662976841065504e-05),\n",
       " (132, 9.662976841065504e-05),\n",
       " (133, 8.589312747613781e-05),\n",
       " (134, 8.589312747613781e-05),\n",
       " (135, 8.589312747613781e-05),\n",
       " (136, 8.589312747613781e-05),\n",
       " (137, 7.515648654162059e-05),\n",
       " (138, 7.515648654162059e-05),\n",
       " (139, 7.515648654162059e-05),\n",
       " (140, 7.515648654162059e-05),\n",
       " (141, 7.515648654162059e-05),\n",
       " (142, 7.515648654162059e-05),\n",
       " (143, 7.515648654162059e-05),\n",
       " (144, 7.515648654162059e-05),\n",
       " (145, 7.515648654162059e-05),\n",
       " (146, 6.441984560710336e-05),\n",
       " (147, 4.2946563738068906e-05),\n",
       " (148, 4.2946563738068906e-05),\n",
       " (149, 4.2946563738068906e-05),\n",
       " (150, 4.2946563738068906e-05),\n",
       " (151, 3.220992280355168e-05),\n",
       " (152, 3.220992280355168e-05),\n",
       " (153, 3.220992280355168e-05),\n",
       " (154, 3.220992280355168e-05),\n",
       " (155, 3.220992280355168e-05),\n",
       " (156, 3.220992280355168e-05),\n",
       " (157, 3.220992280355168e-05),\n",
       " (158, 3.220992280355168e-05),\n",
       " (159, 3.220992280355168e-05),\n",
       " (160, 3.220992280355168e-05),\n",
       " (161, 3.220992280355168e-05),\n",
       " (162, 3.220992280355168e-05),\n",
       " (163, 3.220992280355168e-05),\n",
       " (164, 3.220992280355168e-05),\n",
       " (165, 3.220992280355168e-05),\n",
       " (166, 3.220992280355168e-05),\n",
       " (167, 3.220992280355168e-05),\n",
       " (168, 3.220992280355168e-05),\n",
       " (169, 3.220992280355168e-05),\n",
       " (170, 3.220992280355168e-05),\n",
       " (171, 2.1473281869034453e-05),\n",
       " (172, 2.1473281869034453e-05),\n",
       " (173, 2.1473281869034453e-05),\n",
       " (174, 2.1473281869034453e-05),\n",
       " (175, 2.1473281869034453e-05),\n",
       " (176, 2.1473281869034453e-05),\n",
       " (177, 2.1473281869034453e-05),\n",
       " (178, 1.0736640934517227e-05),\n",
       " (179, 1.0736640934517227e-05),\n",
       " (180, 1.0736640934517227e-05),\n",
       " (181, 1.0736640934517227e-05),\n",
       " (182, 1.0736640934517227e-05),\n",
       " (183, 1.0736640934517227e-05),\n",
       " (184, 1.0736640934517227e-05),\n",
       " (185, 1.0736640934517227e-05),\n",
       " (186, 1.0736640934517227e-05),\n",
       " (187, 1.0736640934517227e-05),\n",
       " (188, 1.0736640934517227e-05),\n",
       " (189, 1.0736640934517227e-05),\n",
       " (190, 1.0736640934517227e-05),\n",
       " (191, 1.0736640934517227e-05)]"
      ]
     },
     "execution_count": 23,
     "metadata": {},
     "output_type": "execute_result"
    }
   ],
   "source": [
    "list(zip(xs, ys))"
   ]
  },
  {
   "cell_type": "code",
   "execution_count": 25,
   "metadata": {},
   "outputs": [],
   "source": [
    "top_songs = song_count_series.loc[song_count_series > 2].index"
   ]
  },
  {
   "cell_type": "code",
   "execution_count": 29,
   "metadata": {},
   "outputs": [],
   "source": [
    "np.save('data/top_songs', np.array(top_songs))"
   ]
  },
  {
   "cell_type": "code",
   "execution_count": 30,
   "metadata": {},
   "outputs": [],
   "source": [
    "with open('data/song_counts.json', 'w') as outfile:\n",
    "    json.dump(SongCounts, outfile)"
   ]
  },
  {
   "cell_type": "code",
   "execution_count": null,
   "metadata": {},
   "outputs": [],
   "source": []
  }
 ],
 "metadata": {
  "kernelspec": {
   "display_name": "Python 3",
   "language": "python",
   "name": "python3"
  },
  "language_info": {
   "codemirror_mode": {
    "name": "ipython",
    "version": 3
   },
   "file_extension": ".py",
   "mimetype": "text/x-python",
   "name": "python",
   "nbconvert_exporter": "python",
   "pygments_lexer": "ipython3",
   "version": "3.7.4"
  }
 },
 "nbformat": 4,
 "nbformat_minor": 2
}
