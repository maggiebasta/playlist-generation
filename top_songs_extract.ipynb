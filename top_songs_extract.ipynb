{
 "cells": [
  {
   "cell_type": "code",
   "execution_count": 3,
   "metadata": {},
   "outputs": [],
   "source": [
    "import datetime\n",
    "import json\n",
    "import os\n",
    "import sys\n",
    "import time\n",
    "\n",
    "import numpy as np\n",
    "import pandas as pd\n",
    "import matplotlib\n",
    "import matplotlib.pyplot as plt\n",
    "\n",
    "import seaborn as sns\n",
    "sns.set()\n",
    "\n",
    "import warnings\n",
    "warnings.filterwarnings(\"ignore\")"
   ]
  },
  {
   "cell_type": "code",
   "execution_count": 41,
   "metadata": {},
   "outputs": [],
   "source": [
    "slices = [f\"data/Songs/{f}\" for f in os.listdir('data/Songs') if f.endswith(\".csv\")]"
   ]
  },
  {
   "cell_type": "markdown",
   "metadata": {},
   "source": [
    "# Inspect the Million Playlist Dataset \"slice\""
   ]
  },
  {
   "cell_type": "code",
   "execution_count": 42,
   "metadata": {},
   "outputs": [
    {
     "data": {
      "text/html": [
       "<div>\n",
       "<style scoped>\n",
       "    .dataframe tbody tr th:only-of-type {\n",
       "        vertical-align: middle;\n",
       "    }\n",
       "\n",
       "    .dataframe tbody tr th {\n",
       "        vertical-align: top;\n",
       "    }\n",
       "\n",
       "    .dataframe thead th {\n",
       "        text-align: right;\n",
       "    }\n",
       "</style>\n",
       "<table border=\"1\" class=\"dataframe\">\n",
       "  <thead>\n",
       "    <tr style=\"text-align: right;\">\n",
       "      <th></th>\n",
       "      <th>pid</th>\n",
       "      <th>pos</th>\n",
       "      <th>artist_name</th>\n",
       "      <th>track_uri</th>\n",
       "      <th>artist_uri</th>\n",
       "      <th>track_name</th>\n",
       "      <th>album_uri</th>\n",
       "      <th>duration_ms</th>\n",
       "      <th>album_name</th>\n",
       "    </tr>\n",
       "  </thead>\n",
       "  <tbody>\n",
       "    <tr>\n",
       "      <td>0</td>\n",
       "      <td>0</td>\n",
       "      <td>0</td>\n",
       "      <td>Missy Elliott</td>\n",
       "      <td>spotify:track:0UaMYEvWZi0ZqiDOoHU3YI</td>\n",
       "      <td>spotify:artist:2wIVse2owClT7go1WT98tk</td>\n",
       "      <td>Lose Control (feat. Ciara &amp; Fat Man Scoop)</td>\n",
       "      <td>spotify:album:6vV5UrXcfyQD1wu4Qo2I9K</td>\n",
       "      <td>226863</td>\n",
       "      <td>The Cookbook</td>\n",
       "    </tr>\n",
       "    <tr>\n",
       "      <td>1</td>\n",
       "      <td>0</td>\n",
       "      <td>1</td>\n",
       "      <td>Britney Spears</td>\n",
       "      <td>spotify:track:6I9VzXrHxO9rA9A5euc8Ak</td>\n",
       "      <td>spotify:artist:26dSoYclwsYLMAKD3tpOr4</td>\n",
       "      <td>Toxic</td>\n",
       "      <td>spotify:album:0z7pVBGOD7HCIB7S8eLkLI</td>\n",
       "      <td>198800</td>\n",
       "      <td>In The Zone</td>\n",
       "    </tr>\n",
       "    <tr>\n",
       "      <td>2</td>\n",
       "      <td>0</td>\n",
       "      <td>2</td>\n",
       "      <td>Beyoncé</td>\n",
       "      <td>spotify:track:0WqIKmW4BTrj3eJFmnCKMv</td>\n",
       "      <td>spotify:artist:6vWDO969PvNqNYHIOW5v0m</td>\n",
       "      <td>Crazy In Love</td>\n",
       "      <td>spotify:album:25hVFAxTlDvXbx2X2QkUkE</td>\n",
       "      <td>235933</td>\n",
       "      <td>Dangerously In Love (Alben für die Ewigkeit)</td>\n",
       "    </tr>\n",
       "    <tr>\n",
       "      <td>3</td>\n",
       "      <td>0</td>\n",
       "      <td>3</td>\n",
       "      <td>Justin Timberlake</td>\n",
       "      <td>spotify:track:1AWQoqb9bSvzTjaLralEkT</td>\n",
       "      <td>spotify:artist:31TPClRtHm23RisEBtV3X7</td>\n",
       "      <td>Rock Your Body</td>\n",
       "      <td>spotify:album:6QPkyl04rXwTGlGlcYaRoW</td>\n",
       "      <td>267266</td>\n",
       "      <td>Justified</td>\n",
       "    </tr>\n",
       "    <tr>\n",
       "      <td>4</td>\n",
       "      <td>0</td>\n",
       "      <td>4</td>\n",
       "      <td>Shaggy</td>\n",
       "      <td>spotify:track:1lzr43nnXAijIGYnCT8M8H</td>\n",
       "      <td>spotify:artist:5EvFsr3kj42KNv97ZEnqij</td>\n",
       "      <td>It Wasn't Me</td>\n",
       "      <td>spotify:album:6NmFmPX56pcLBOFMhIiKvF</td>\n",
       "      <td>227600</td>\n",
       "      <td>Hot Shot</td>\n",
       "    </tr>\n",
       "  </tbody>\n",
       "</table>\n",
       "</div>"
      ],
      "text/plain": [
       "   pid  pos        artist_name                             track_uri  \\\n",
       "0    0    0      Missy Elliott  spotify:track:0UaMYEvWZi0ZqiDOoHU3YI   \n",
       "1    0    1     Britney Spears  spotify:track:6I9VzXrHxO9rA9A5euc8Ak   \n",
       "2    0    2            Beyoncé  spotify:track:0WqIKmW4BTrj3eJFmnCKMv   \n",
       "3    0    3  Justin Timberlake  spotify:track:1AWQoqb9bSvzTjaLralEkT   \n",
       "4    0    4             Shaggy  spotify:track:1lzr43nnXAijIGYnCT8M8H   \n",
       "\n",
       "                              artist_uri  \\\n",
       "0  spotify:artist:2wIVse2owClT7go1WT98tk   \n",
       "1  spotify:artist:26dSoYclwsYLMAKD3tpOr4   \n",
       "2  spotify:artist:6vWDO969PvNqNYHIOW5v0m   \n",
       "3  spotify:artist:31TPClRtHm23RisEBtV3X7   \n",
       "4  spotify:artist:5EvFsr3kj42KNv97ZEnqij   \n",
       "\n",
       "                                   track_name  \\\n",
       "0  Lose Control (feat. Ciara & Fat Man Scoop)   \n",
       "1                                       Toxic   \n",
       "2                               Crazy In Love   \n",
       "3                              Rock Your Body   \n",
       "4                                It Wasn't Me   \n",
       "\n",
       "                              album_uri  duration_ms  \\\n",
       "0  spotify:album:6vV5UrXcfyQD1wu4Qo2I9K       226863   \n",
       "1  spotify:album:0z7pVBGOD7HCIB7S8eLkLI       198800   \n",
       "2  spotify:album:25hVFAxTlDvXbx2X2QkUkE       235933   \n",
       "3  spotify:album:6QPkyl04rXwTGlGlcYaRoW       267266   \n",
       "4  spotify:album:6NmFmPX56pcLBOFMhIiKvF       227600   \n",
       "\n",
       "                                     album_name  \n",
       "0                                  The Cookbook  \n",
       "1                                   In The Zone  \n",
       "2  Dangerously In Love (Alben für die Ewigkeit)  \n",
       "3                                     Justified  \n",
       "4                                      Hot Shot  "
      ]
     },
     "execution_count": 42,
     "metadata": {},
     "output_type": "execute_result"
    }
   ],
   "source": [
    "df_mpd0 = pd.read_csv(slices[0])\n",
    "df_mpd0.head()"
   ]
  },
  {
   "cell_type": "code",
   "execution_count": 5,
   "metadata": {},
   "outputs": [
    {
     "name": "stdout",
     "output_type": "stream",
     "text": [
      "Percent of playlists with more than 1 follower: 24.7%\n"
     ]
    }
   ],
   "source": [
    "percent_gt_1 = len(df_mpd.loc[df_mpd.num_followers>1])/len(df_mpd)\n",
    "print(f\"Percent of playlists with more than 1 follower: {percent_gt_1*100}%\")"
   ]
  },
  {
   "cell_type": "code",
   "execution_count": 43,
   "metadata": {},
   "outputs": [
    {
     "data": {
      "text/plain": [
       "1000"
      ]
     },
     "execution_count": 43,
     "metadata": {},
     "output_type": "execute_result"
    }
   ],
   "source": [
    "playlists = [group for _, group in df_mpd0.groupby(\"pid\")]\n",
    "len(playlists)"
   ]
  },
  {
   "cell_type": "markdown",
   "metadata": {},
   "source": [
    "# Look at Most Common Songs, Albums and Artists\n",
    "\n",
    "In order to cut down on the size of our dataset, we inspect the number of occurences of each song, artist and album in the million playlists. \n",
    "\n",
    "**WARNING:** Running the first two code blocks below will restart the counting process and take 3 hours. To load the song counts dictionary, use the file already stored in the \"data\" directory. "
   ]
  },
  {
   "cell_type": "markdown",
   "metadata": {},
   "source": [
    "**Global dicionaries**"
   ]
  },
  {
   "cell_type": "code",
   "execution_count": 69,
   "metadata": {},
   "outputs": [],
   "source": [
    "# # Look up tables for URIs\n",
    "# ArtistNames = {}\n",
    "# SongNames = {}\n",
    "# AlbumNames = {}\n",
    "\n",
    "# # Counts for top values\n",
    "# SongCounts = {}\n",
    "# ArtistCounts = {}\n",
    "# AlbumCounts = {}"
   ]
  },
  {
   "cell_type": "markdown",
   "metadata": {},
   "source": [
    "**Iterate to get counts**"
   ]
  },
  {
   "cell_type": "code",
   "execution_count": 70,
   "metadata": {},
   "outputs": [
    {
     "name": "stdout",
     "output_type": "stream",
     "text": [
      "Parsed slice 1000/1000. Time remaining: :00:13"
     ]
    }
   ],
   "source": [
    "# start_time = time.time()\n",
    "# total_slices = 1000\n",
    "# for i, slc in enumerate(slices[:total_slices + 1]): \n",
    "#     slice_df = pd.read_csv(slc)\n",
    "#     for playlist_df in [group for _, group in slice_df.groupby(\"pid\")]:\n",
    "#         for _, track in playlist_df.iterrows():\n",
    "#             # update counts\n",
    "#             SongCounts[track['track_uri']] = SongCounts.get(track['track_uri'], 0) + 1\n",
    "#             ArtistCounts[track['artist_uri']] = ArtistCounts.get(track['artist_uri'], 0) + 1\n",
    "#             AlbumCounts[track['album_uri']] = AlbumCounts.get(track['album_uri'], 0) + 1\n",
    "\n",
    "#             # update uris to name pairs\n",
    "#             SongNames[track['track_uri']] = track['track_name']\n",
    "#             ArtistNames[track['artist_uri']] = track['artist_name']\n",
    "#             AlbumNames[track['album_uri']] = track['album_name']\n",
    "            \n",
    "#     with open('data/song_counts.json', 'w') as outfile:\n",
    "#         json.dump(SongCounts, outfile)\n",
    "        \n",
    "#     current_time = time.time()\n",
    "#     elapsed_time = current_time - start_time\n",
    "#     time_left = total_slices * elapsed_time / float(i+1) - elapsed_time\n",
    "#     sys.stdout.write(\n",
    "#         f\"\\rParsed slice {i+1}/{total_slices}. Time remaining: {str(datetime.timedelta(seconds=time_left))[:-7]}\")\n",
    "#     sys.stdout.flush()"
   ]
  },
  {
   "cell_type": "markdown",
   "metadata": {},
   "source": [
    "**Plot count distributions**"
   ]
  },
  {
   "cell_type": "code",
   "execution_count": 71,
   "metadata": {},
   "outputs": [
    {
     "data": {
      "image/png": "[encoded data removed]",
      "text/plain": [
       "<Figure size 1296x288 with 3 Axes>"
      ]
     },
     "metadata": {},
     "output_type": "display_data"
    }
   ],
   "source": [
    "fig, axs = plt.subplots(1, 3, figsize=(18, 4))\n",
    "axs[0].hist(SongCounts.values(), bins=20, log=True)\n",
    "axs[1].hist(ArtistCounts.values(), bins=20, log=True)\n",
    "axs[2].hist(AlbumCounts.values(), bins=20, log=True)\n",
    "\n",
    "axs[0].set_title(\"Distribution of Song Counts\")\n",
    "axs[1].set_title(\"Distribution of Artist Counts\")\n",
    "axs[2].set_title(\"Distribution of Album Counts\")\n",
    "\n",
    "plt.show()"
   ]
  },
  {
   "cell_type": "markdown",
   "metadata": {},
   "source": [
    "**Percent of songs appearing on more than a given number of playlists**\n",
    "\n",
    "We now inspect the percentage of total songs that appear on playlists more than $x$ times, for $0 \\leq x < 300$"
   ]
  },
  {
   "cell_type": "code",
   "execution_count": 4,
   "metadata": {},
   "outputs": [],
   "source": [
    "# Reload song counts from saves json\n",
    "SongCounts = json.load(open(\"data/song_counts.json\", 'r'))"
   ]
  },
  {
   "cell_type": "code",
   "execution_count": 6,
   "metadata": {},
   "outputs": [
    {
     "name": "stdout",
     "output_type": "stream",
     "text": [
      "Total number of songs seen in the MPD: 2262292\n"
     ]
    }
   ],
   "source": [
    "song_count_series = pd.Series(list(SongCounts.values()), index=list(SongCounts.keys()))\n",
    "\n",
    "print(f\"Total number of songs seen in the MPD: {len(song_count_series)}\")"
   ]
  },
  {
   "cell_type": "code",
   "execution_count": 7,
   "metadata": {},
   "outputs": [
    {
     "data": {
      "image/png": "[encoded data removed]",
      "text/plain": [
       "<Figure size 1296x288 with 1 Axes>"
      ]
     },
     "metadata": {
      "needs_background": "light"
     },
     "output_type": "display_data"
    }
   ],
   "source": [
    "xs = range(0, 300)\n",
    "ys = [len(song_count_series.loc[song_count_series>x])/len(song_count_series) for x in xs]\n",
    "\n",
    "fig, ax = plt.subplots(1, 1, figsize=(18, 4))\n",
    "ax.plot(xs, ys)\n",
    "ax.set_xlabel(\"Number of playlist appearances\")\n",
    "ax.set_ylabel(\"Percent of songs\")\n",
    "ax.set_xscale(\"log\")\n",
    "plt.show()"
   ]
  },
  {
   "cell_type": "code",
   "execution_count": 8,
   "metadata": {},
   "outputs": [
    {
     "data": {
      "text/plain": [
       "[(0, 1.0),\n",
       " (1, 0.5255170420087238),\n",
       " (2, 0.38263141981671683),\n",
       " (3, 0.3102053139028914),\n",
       " (4, 0.2649264551171997),\n",
       " (5, 0.23367673138569203),\n",
       " (6, 0.21025269947469205),\n",
       " (7, 0.19188239183978018),\n",
       " (8, 0.17702268319032202),\n",
       " (9, 0.16462640543307408),\n",
       " (10, 0.15407294902691607),\n",
       " (11, 0.1450462628166479),\n",
       " (12, 0.1373094189432664),\n",
       " (13, 0.13046149657073447),\n",
       " (14, 0.12430623456211665),\n",
       " (15, 0.11884009668071142),\n",
       " (16, 0.11391588707381717),\n",
       " (17, 0.10944298967595695),\n",
       " (18, 0.1053595203448538),\n",
       " (19, 0.10161110944122156),\n",
       " (20, 0.09825168457475869),\n",
       " (21, 0.09503459323553282),\n",
       " (22, 0.09206194425830087),\n",
       " (23, 0.08933638982058903),\n",
       " (24, 0.08681372696362803),\n",
       " (25, 0.08438212220173169),\n",
       " (26, 0.08211848868315849),\n",
       " (27, 0.08000602928357613),\n",
       " (28, 0.07802485267153843),\n",
       " (29, 0.07616523419611615),\n",
       " (30, 0.07442319559102008),\n",
       " (31, 0.07272403385593018),\n",
       " (32, 0.0711464302574557),\n",
       " (33, 0.06962673253496895),\n",
       " (34, 0.06814637544578683),\n",
       " (35, 0.06675044600785399),\n",
       " (36, 0.06541816883054884),\n",
       " (37, 0.06413363084871448),\n",
       " (38, 0.06292556398555094),\n",
       " (39, 0.06170556232351969),\n",
       " (40, 0.060608444886866945),\n",
       " (41, 0.059548899965168066),\n",
       " (42, 0.0585534493336846),\n",
       " (43, 0.05754252766663189),\n",
       " (44, 0.05660630899989922),\n",
       " (45, 0.05572711214997887),\n",
       " (46, 0.05487045880903084),\n",
       " (47, 0.05403679100664282),\n",
       " (48, 0.053194724642088645),\n",
       " (49, 0.0523858104966114),\n",
       " (50, 0.051620657280315715),\n",
       " (51, 0.050877605543404654),\n",
       " (52, 0.05015974949299206),\n",
       " (53, 0.049465321010727176),\n",
       " (54, 0.048794320096609986),\n",
       " (55, 0.04813083368548357),\n",
       " (56, 0.047467347274357155),\n",
       " (57, 0.04684850585158768),\n",
       " (58, 0.04624071516851052),\n",
       " (59, 0.04564088101801182),\n",
       " (60, 0.04507243096823929),\n",
       " (61, 0.044536691107956),\n",
       " (62, 0.0440018353068481),\n",
       " (63, 0.04350853028698329),\n",
       " (64, 0.04303600065774003),\n",
       " (65, 0.04251971009931521),\n",
       " (66, 0.042022426813161165),\n",
       " (67, 0.04156315807154868),\n",
       " (68, 0.04112024442468081),\n",
       " (69, 0.040695011961320644),\n",
       " (70, 0.040277294000951244),\n",
       " (71, 0.03986311227728339),\n",
       " (72, 0.03945069867196631),\n",
       " (73, 0.03904093724417538),\n",
       " (74, 0.03864266858566445),\n",
       " (75, 0.03824970428220583),\n",
       " (76, 0.037841710972765674),\n",
       " (77, 0.0374695220599286),\n",
       " (78, 0.037122528833590004),\n",
       " (79, 0.03677774575518987),\n",
       " (80, 0.03643561485431589),\n",
       " (81, 0.036080665095398826),\n",
       " (82, 0.035771244384014085),\n",
       " (83, 0.03544767872582319),\n",
       " (84, 0.035132511629798455),\n",
       " (85, 0.03481292423789679),\n",
       " (86, 0.03450703976321359),\n",
       " (87, 0.034209111821108855),\n",
       " (88, 0.03393903174302875),\n",
       " (89, 0.03365922701401941),\n",
       " (90, 0.03340771217862239),\n",
       " (91, 0.03310845814775458),\n",
       " (92, 0.03282600124121908),\n",
       " (93, 0.032564761754892826),\n",
       " (94, 0.03228230484835733),\n",
       " (95, 0.03203786248636339),\n",
       " (96, 0.031782811414264825),\n",
       " (97, 0.03152908643092934),\n",
       " (98, 0.03128685421687386),\n",
       " (99, 0.031043295914055302),\n",
       " (100, 0.030799737611236746),\n",
       " (101, 0.030558389456356652),\n",
       " (102, 0.030319251449415018),\n",
       " (103, 0.030091164182165696),\n",
       " (104, 0.02986705518120561),\n",
       " (105, 0.029638967913956288),\n",
       " (106, 0.029439170540319286),\n",
       " (107, 0.02922920648616536),\n",
       " (108, 0.029026314905414508),\n",
       " (109, 0.028832263916417508),\n",
       " (110, 0.028626278128552812),\n",
       " (111, 0.02842648075491581),\n",
       " (112, 0.028227125410866503),\n",
       " (113, 0.02803661065857104),\n",
       " (114, 0.02785140026132789),\n",
       " (115, 0.027658233331506278),\n",
       " (116, 0.02748274758519236),\n",
       " (117, 0.027303283572589213),\n",
       " (118, 0.027121609412047606),\n",
       " (119, 0.026957616435013695),\n",
       " (120, 0.026788761132515167),\n",
       " (121, 0.026623442066718177),\n",
       " (122, 0.026445304142878108),\n",
       " (123, 0.026270702455739578),\n",
       " (124, 0.0260930065614872),\n",
       " (125, 0.025925919377339443),\n",
       " (126, 0.025776513376699384),\n",
       " (127, 0.025630643612760864),\n",
       " (128, 0.025470628902016186),\n",
       " (129, 0.025325643197253053),\n",
       " (130, 0.025169164723209913),\n",
       " (131, 0.025018874663394468),\n",
       " (132, 0.02488007737285903),\n",
       " (133, 0.02473067137221897),\n",
       " (134, 0.024594526259209687),\n",
       " (135, 0.024455286939086555),\n",
       " (136, 0.024307649056797265),\n",
       " (137, 0.024166641618323364),\n",
       " (138, 0.02402740229820023),\n",
       " (139, 0.023883300652612485),\n",
       " (140, 0.023746271480427815),\n",
       " (141, 0.023611010426593915),\n",
       " (142, 0.023464256603480012),\n",
       " (143, 0.023333415845523037),\n",
       " (144, 0.023216278004784527),\n",
       " (145, 0.023091183631467557),\n",
       " (146, 0.022964321139799813),\n",
       " (147, 0.022847625328648997),\n",
       " (148, 0.022722530955332026),\n",
       " (149, 0.022613791676759677),\n",
       " (150, 0.022493559628907322),\n",
       " (151, 0.022359624663836498),\n",
       " (152, 0.02225486365155338),\n",
       " (153, 0.022145682343393338),\n",
       " (154, 0.022032522768944064),\n",
       " (155, 0.021906544336451703),\n",
       " (156, 0.021792500702827046),\n",
       " (157, 0.021675362862088536),\n",
       " (158, 0.02155247863671003),\n",
       " (159, 0.021445065446900755),\n",
       " (160, 0.021343398641731483),\n",
       " (161, 0.021236427481509904),\n",
       " (162, 0.021131666469226783),\n",
       " (163, 0.021030441693645204),\n",
       " (164, 0.02093186909558978),\n",
       " (165, 0.020826224024131278),\n",
       " (166, 0.02072632533731278),\n",
       " (167, 0.020633499123897357),\n",
       " (168, 0.02052387578614962),\n",
       " (169, 0.020423093040155736),\n",
       " (170, 0.020326730590038776),\n",
       " (171, 0.020240534820438742),\n",
       " (172, 0.02014594048867255),\n",
       " (173, 0.02006549110371252),\n",
       " (174, 0.019972222860709404),\n",
       " (175, 0.019891773475749372),\n",
       " (176, 0.0198077878540878),\n",
       " (177, 0.01971893990696161),\n",
       " (178, 0.019634070226124657),\n",
       " (179, 0.019548758515700006),\n",
       " (180, 0.01946344680527536),\n",
       " (181, 0.019382555390727634),\n",
       " (182, 0.019302990064942988),\n",
       " (183, 0.019220330532044493),\n",
       " (184, 0.01914695362048754),\n",
       " (185, 0.019065178146764433),\n",
       " (186, 0.018983844702629014),\n",
       " (187, 0.018906931554370524),\n",
       " (188, 0.018833554642813572),\n",
       " (189, 0.018751779169090464),\n",
       " (190, 0.018681496464647358),\n",
       " (191, 0.018605025345976557),\n",
       " (192, 0.018530764375244223),\n",
       " (193, 0.018455177315748805),\n",
       " (194, 0.018377822137902622),\n",
       " (195, 0.01830798146304721),\n",
       " (196, 0.018235930640253337),\n",
       " (197, 0.018160785610345613),\n",
       " (198, 0.018079010136622505),\n",
       " (199, 0.018003865106714784),\n",
       " (200, 0.017929162106394753),\n",
       " (201, 0.017852248958136262),\n",
       " (202, 0.01778815466792085),\n",
       " (203, 0.017726270525643906),\n",
       " (204, 0.01766129217625311),\n",
       " (205, 0.017593219619748468),\n",
       " (206, 0.017531777507059212),\n",
       " (207, 0.0174561904475638),\n",
       " (208, 0.017394748334874543),\n",
       " (209, 0.017322255482492978),\n",
       " (210, 0.017249320600523716),\n",
       " (211, 0.017190530665360616),\n",
       " (212, 0.017122458108855973),\n",
       " (213, 0.01705747975946518),\n",
       " (214, 0.016998247794714386),\n",
       " (215, 0.016927965090271283),\n",
       " (216, 0.016864754859231258),\n",
       " (217, 0.016809501160769697),\n",
       " (218, 0.01674584890014198),\n",
       " (219, 0.01668175460992657),\n",
       " (220, 0.016613240023834235),\n",
       " (221, 0.01656461676918806),\n",
       " (222, 0.016509805100314193),\n",
       " (223, 0.01645366734267725),\n",
       " (224, 0.01639664552586492),\n",
       " (225, 0.016351116478332595),\n",
       " (226, 0.016293210602344878),\n",
       " (227, 0.016233978637594085),\n",
       " (228, 0.016171652465729446),\n",
       " (229, 0.016107558175514035),\n",
       " (230, 0.016060703039218634),\n",
       " (231, 0.015997050778590916),\n",
       " (232, 0.015938260843427816),\n",
       " (233, 0.015879028878677023),\n",
       " (234, 0.015811840381347766),\n",
       " (235, 0.015757470742061592),\n",
       " (236, 0.015694260511021567),\n",
       " (237, 0.0156451952267877),\n",
       " (238, 0.01559701400172922),\n",
       " (239, 0.015540876244092275),\n",
       " (240, 0.015490926900683023),\n",
       " (241, 0.015444071764387621),\n",
       " (242, 0.015391028213864523),\n",
       " (243, 0.015341078870455273),\n",
       " (244, 0.015279636757766018),\n",
       " (245, 0.015216426526725993),\n",
       " (246, 0.015162056887439818),\n",
       " (247, 0.01511078145526749),\n",
       " (248, 0.015056853845569007),\n",
       " (249, 0.015013976975562835),\n",
       " (250, 0.014967121839267433),\n",
       " (251, 0.014919382643796645),\n",
       " (252, 0.014870759389150473),\n",
       " (253, 0.014832302815021226),\n",
       " (254, 0.014784121589962746),\n",
       " (255, 0.014739918631193498),\n",
       " (256, 0.014696157702011941),\n",
       " (257, 0.014645766329014999),\n",
       " (258, 0.014598911192719596),\n",
       " (259, 0.01455515026353804),\n",
       " (260, 0.014511389334356485),\n",
       " (261, 0.014471606671464162),\n",
       " (262, 0.014425635594344142),\n",
       " (263, 0.014383642783513357),\n",
       " (264, 0.014347838386910266),\n",
       " (265, 0.01430230933937794),\n",
       " (266, 0.014262526676485617),\n",
       " (267, 0.0142165555993656),\n",
       " (268, 0.014169700463070195),\n",
       " (269, 0.014130801859353257),\n",
       " (270, 0.01408483078223324),\n",
       " (271, 0.014045932178516301),\n",
       " (272, 0.014002171249334746),\n",
       " (273, 0.013954432053863958),\n",
       " (274, 0.013914207361383941),\n",
       " (275, 0.013868236284263924),\n",
       " (276, 0.013828895650959292),\n",
       " (277, 0.013786460810540814),\n",
       " (278, 0.013744467999710028),\n",
       " (279, 0.013702033159291551),\n",
       " (280, 0.01366092440763615),\n",
       " (281, 0.013626446099796135),\n",
       " (282, 0.013587105466491506),\n",
       " (283, 0.013550859040300721),\n",
       " (284, 0.01350975028864532),\n",
       " (285, 0.013462011093174533),\n",
       " (286, 0.013425322637396056),\n",
       " (287, 0.013383771856152964),\n",
       " (288, 0.013347083400374488),\n",
       " (289, 0.013301554352842162),\n",
       " (290, 0.013260887630774454),\n",
       " (291, 0.013222431056645207),\n",
       " (292, 0.013185742600866732),\n",
       " (293, 0.013147286026737485),\n",
       " (294, 0.013112807718897472),\n",
       " (295, 0.013073909115180533),\n",
       " (296, 0.013036336600226673),\n",
       " (297, 0.01300716264743897),\n",
       " (298, 0.012969590132485108),\n",
       " (299, 0.012933343706294325)]"
      ]
     },
     "execution_count": 8,
     "metadata": {},
     "output_type": "execute_result"
    }
   ],
   "source": [
    "list(zip(xs, ys))"
   ]
  },
  {
   "cell_type": "markdown",
   "metadata": {},
   "source": [
    "**Saving counts and top songs**"
   ]
  },
  {
   "cell_type": "code",
   "execution_count": 24,
   "metadata": {},
   "outputs": [],
   "source": [
    "top_songs = song_count_series.loc[song_count_series > 2].index"
   ]
  },
  {
   "cell_type": "code",
   "execution_count": 25,
   "metadata": {},
   "outputs": [],
   "source": [
    "np.save('data/top_songs', np.array(top_songs))"
   ]
  },
  {
   "cell_type": "code",
   "execution_count": 26,
   "metadata": {},
   "outputs": [],
   "source": [
    "with open('data/song_counts.json', 'w') as outfile:\n",
    "    json.dump(SongCounts, outfile)"
   ]
  },
  {
   "cell_type": "code",
   "execution_count": 79,
   "metadata": {},
   "outputs": [],
   "source": [
    "# with open('data/song_uid2name.json', 'w') as outfile:\n",
    "#     json.dump(SongNames, outfile)"
   ]
  }
 ],
 "metadata": {
  "kernelspec": {
   "display_name": "Python 3",
   "language": "python",
   "name": "python3"
  },
  "language_info": {
   "codemirror_mode": {
    "name": "ipython",
    "version": 3
   },
   "file_extension": ".py",
   "mimetype": "text/x-python",
   "name": "python",
   "nbconvert_exporter": "python",
   "pygments_lexer": "ipython3",
   "version": "3.7.4"
  }
 },
 "nbformat": 4,
 "nbformat_minor": 2
}
