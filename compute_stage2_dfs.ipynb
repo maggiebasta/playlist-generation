{
 "cells": [
  {
   "cell_type": "code",
   "execution_count": 1,
   "metadata": {},
   "outputs": [],
   "source": [
    "import datetime\n",
    "import pickle\n",
    "import sys\n",
    "import time\n",
    "\n",
    "import pandas as pd\n",
    "import numpy as np\n",
    "\n",
    "sys.path.append('../')\n",
    "sys.path.append('../Models')\n",
    "\n",
    "import wrmf_helpers\n",
    "from feature_extraction import compute_df\n",
    "from spotify_api_database import SpotifyAuth\n",
    "from settings import PATH_TO_SPARSE_MATRIX"
   ]
  },
  {
   "cell_type": "code",
   "execution_count": 18,
   "metadata": {},
   "outputs": [],
   "source": [
    "train_playlists = []\n",
    "for i in range(1, 10):\n",
    "    filename = f'/Users/mabasta/Desktop/CS109a/playlist-generation/data/Songs/songs{i}.csv'\n",
    "    cols_ignore = ['pos', 'artist_name', 'artist_uri', 'track_name', 'album_uri', 'duration_ms', 'album_name']\n",
    "    df = pd.read_csv(filename).drop(columns = cols_ignore)\n",
    "    train_playlists.extend([group.track_uri for _, group in df.groupby('pid')])\n",
    "\n",
    "val_playlists = []\n",
    "for i in range(10, 12):\n",
    "    filename = f'/Users/mabasta/Desktop/CS109a/playlist-generation/data/Songs/songs{i}.csv'\n",
    "    cols_ignore = ['pos', 'artist_name', 'artist_uri', 'track_name', 'album_uri', 'duration_ms', 'album_name']\n",
    "    df = pd.read_csv(filename).drop(columns = cols_ignore)\n",
    "    val_playlists.extend([group.track_uri for _, group in df.groupby('pid')])\n",
    "\n",
    "_, tid_to_idx, _, _, _ = wrmf_helpers.get_user_item_sparse_matrix(PATH_TO_SPARSE_MATRIX)    "
   ]
  },
  {
   "cell_type": "code",
   "execution_count": 3,
   "metadata": {},
   "outputs": [
    {
     "name": "stdout",
     "output_type": "stream",
     "text": [
      "(2029866, 20)\n",
      "(800000, 20)\n"
     ]
    }
   ],
   "source": [
    "with open('../Models/wrmf_factors.pickle', 'rb') as f:\n",
    "    playlist_factors, song_factors = pickle.load(f)\n",
    "\n",
    "print(song_factors.shape)\n",
    "print(playlist_factors.shape)"
   ]
  },
  {
   "cell_type": "code",
   "execution_count": 7,
   "metadata": {},
   "outputs": [
    {
     "name": "stdout",
     "output_type": "stream",
     "text": [
      "Parsed playlist 10/10. Time elapsed: 0:02:56. Time remaining: :00:17"
     ]
    }
   ],
   "source": [
    "train_dfs = []\n",
    "start_time = time.time()\n",
    "n = 10\n",
    "for i in range(n):\n",
    "    if len(train_playlists[i]) > 2:\n",
    "        train_dfs.append(compute_df(train_playlists[i], song_factors, playlist_factors))\n",
    "    current_time = time.time()\n",
    "    elapsed_time = current_time - start_time\n",
    "    time_left = n * elapsed_time / float(i+1) - elapsed_time\n",
    "    sys.stdout.write(\n",
    "        f\"\\rParsed playlist {i+1}/{n}. Time elapsed: {str(datetime.timedelta(seconds=elapsed_time))[:-7]}. Time remaining: {str(datetime.timedelta(seconds=time_left))[:-7]}\")\n",
    "    sys.stdout.flush()\n",
    "\n",
    "train_df = pd.concat(train_dfs)"
   ]
  },
  {
   "cell_type": "code",
   "execution_count": 13,
   "metadata": {},
   "outputs": [],
   "source": [
    "with open('../data/stage_2_train.pickle', 'wb') as f:\n",
    "    pickle.dump(train_df , f)"
   ]
  },
  {
   "cell_type": "code",
   "execution_count": 10,
   "metadata": {},
   "outputs": [],
   "source": [
    "import xgboost as xgb"
   ]
  },
  {
   "cell_type": "code",
   "execution_count": 15,
   "metadata": {},
   "outputs": [],
   "source": [
    "ytrain = train_df['relevence']\n",
    "Xtrain = train_df.drop('relevence', axis=1)"
   ]
  },
  {
   "cell_type": "code",
   "execution_count": 20,
   "metadata": {},
   "outputs": [],
   "source": [
    "from sklearn.metrics import accuracy_score\n",
    "model = xgb.XGBClassifier(n_estimators=150, max_depth=10, learning_rate=0.1, subsample=0.5)\n",
    "model.fit(Xtrain, ytrain)\n",
    "pred_train = model.predict(Xtrain)"
   ]
  },
  {
   "cell_type": "code",
   "execution_count": 21,
   "metadata": {},
   "outputs": [
    {
     "name": "stdout",
     "output_type": "stream",
     "text": [
      "Accuracy for model 1: 100.00\n"
     ]
    }
   ],
   "source": [
    "print(\"Accuracy for model 1: %.2f\" % (accuracy_score(ytrain, pred_train) * 100))"
   ]
  },
  {
   "cell_type": "code",
   "execution_count": 19,
   "metadata": {},
   "outputs": [
    {
     "name": "stdout",
     "output_type": "stream",
     "text": [
      "Parsed playlist 2/2. Time elapsed: 0:00:21. Time remaining: 0:00:10"
     ]
    }
   ],
   "source": [
    "val_dfs = []\n",
    "start_time = time.time()\n",
    "n = 2\n",
    "for i in range(n):\n",
    "    if len(val_playlists[i]) > 2:\n",
    "        val_dfs.append(compute_df(val_playlists[i], song_factors, playlist_factors))\n",
    "    current_time = time.time()\n",
    "    elapsed_time = current_time - start_time\n",
    "    time_left = n * elapsed_time / float(i+1) - elapsed_time\n",
    "    sys.stdout.write(\n",
    "        f\"\\rParsed playlist {i+1}/{n}. Time elapsed: {str(datetime.timedelta(seconds=elapsed_time))[:-7]}. Time remaining: {str(datetime.timedelta(seconds=time_left))[:-7]}\")\n",
    "    sys.stdout.flush()\n",
    "\n",
    "val_df = pd.concat(val_dfs)\n"
   ]
  },
  {
   "cell_type": "code",
   "execution_count": 22,
   "metadata": {},
   "outputs": [],
   "source": [
    "yval = val_df['relevence']\n",
    "Xval = val_df.drop('relevence', axis=1)\n",
    "pred_val = model.predict(Xval)"
   ]
  },
  {
   "cell_type": "code",
   "execution_count": 23,
   "metadata": {},
   "outputs": [
    {
     "name": "stdout",
     "output_type": "stream",
     "text": [
      "Accuracy for model 1: 47.92\n"
     ]
    }
   ],
   "source": [
    "print(\"Accuracy for model 1: %.2f\" % (accuracy_score(yval, pred_val) * 100))"
   ]
  },
  {
   "cell_type": "code",
   "execution_count": null,
   "metadata": {},
   "outputs": [],
   "source": []
  }
 ],
 "metadata": {
  "kernelspec": {
   "display_name": "Python 3",
   "language": "python",
   "name": "python3"
  },
  "language_info": {
   "codemirror_mode": {
    "name": "ipython",
    "version": 3
   },
   "file_extension": ".py",
   "mimetype": "text/x-python",
   "name": "python",
   "nbconvert_exporter": "python",
   "pygments_lexer": "ipython3",
   "version": "3.7.4"
  }
 },
 "nbformat": 4,
 "nbformat_minor": 2
}
