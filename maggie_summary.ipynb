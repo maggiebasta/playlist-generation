{
 "cells": [
  {
   "cell_type": "code",
   "execution_count": 1,
   "metadata": {},
   "outputs": [],
   "source": [
    "\"\"\"\n",
    "Due to the large data files loaded in the modules during imports, this cell takes a while to run\n",
    "\"\"\"\n",
    "\n",
    "import pandas as pd\n",
    "import numpy as np\n",
    "import matplotlib.pyplot as plt\n",
    "import time\n",
    "\n",
    "import scipy.sparse as sparse\n",
    "from sklearn.metrics import mean_squared_error\n",
    "import os\n",
    "import sys\n",
    "import pickle\n",
    "import itertools\n",
    "\n",
    "sys.path.append('Models')\n",
    "\n",
    "import wrmf, wrmf_helpers\n",
    "from settings import PATH_TO_SPARSE_MATRIX\n",
    "\n",
    "\n",
    "import xgboost as xgb\n",
    "from sklearn.tree import DecisionTreeClassifier\n",
    "from sklearn.ensemble import RandomForestClassifier\n",
    "from sklearn.ensemble import AdaBoostClassifier\n",
    "from sklearn.model_selection import GridSearchCV\n",
    "from sklearn.linear_model import LogisticRegressionCV\n",
    "from sklearn.metrics import accuracy_score\n",
    "\n",
    "from evaluation import get_model_clickscore"
   ]
  },
  {
   "cell_type": "markdown",
   "metadata": {},
   "source": [
    "# NOTE: \n",
    "\n",
    "Before you run this notebook, make sure you have the following files in your \"data\" folder (downloaded from drive): \n",
    "1. mdp_wrmf_sparse_matrix_800.pickle\n",
    "2. wrmf_factors.pickle\n",
    "3. stage_2_val.pickle\n",
    "4. stage_2_train.pickle\n",
    "5. spotify_dictionary.pickle"
   ]
  },
  {
   "cell_type": "markdown",
   "metadata": {},
   "source": [
    "# 1. WRMF and stage 1 "
   ]
  },
  {
   "cell_type": "markdown",
   "metadata": {},
   "source": [
    "## (1.1) Compute the wrmf factors "
   ]
  },
  {
   "cell_type": "code",
   "execution_count": 2,
   "metadata": {},
   "outputs": [
    {
     "data": {
      "text/plain": [
       "'\\nNOTE: ONLY RUN THIS IF YOU WANT TO RECOMPUTE WRMF WITH NEW PARAMS.\\nOTHERWISE USE PRECOMPUTED FACTORIZATION (STORED LOCALLY/IN DRIVE)\\n'"
      ]
     },
     "execution_count": 2,
     "metadata": {},
     "output_type": "execute_result"
    }
   ],
   "source": [
    "\"\"\"\n",
    "NOTE: ONLY RUN THIS IF YOU WANT TO RECOMPUTE WRMF WITH NEW PARAMS.\n",
    "OTHERWISE USE PRECOMPUTED FACTORIZATION (STORED LOCALLY/IN DRIVE)\n",
    "\"\"\"\n",
    "# params = {\n",
    "#     'factors': 20,\n",
    "#     'reg': 0.1,\n",
    "#     'iters': 20,\n",
    "#     'alpha': 15\n",
    "# }\n",
    "# song_factors = get_wrmf_factors.get_fitted_wrmf(PATH_TO_SPARSE_MATRIX, params)"
   ]
  },
  {
   "cell_type": "markdown",
   "metadata": {},
   "source": [
    "## (1.2) Get the song factorization "
   ]
  },
  {
   "cell_type": "code",
   "execution_count": 3,
   "metadata": {},
   "outputs": [
    {
     "name": "stdout",
     "output_type": "stream",
     "text": [
      "(2029866, 20)\n",
      "(800000, 20)\n"
     ]
    }
   ],
   "source": [
    "with open('data/wrmf_factors.pickle', 'rb') as f:\n",
    "    playlist_factors, song_factors = pickle.load(f)\n",
    "\n",
    "print(song_factors.shape)\n",
    "print(playlist_factors.shape)"
   ]
  },
  {
   "cell_type": "markdown",
   "metadata": {},
   "source": [
    "## (1.3) Example: get \"n_similar\" top songs for random seed songs "
   ]
  },
  {
   "cell_type": "code",
   "execution_count": 4,
   "metadata": {},
   "outputs": [
    {
     "name": "stdout",
     "output_type": "stream",
     "text": [
      "\n",
      "Recommended Songs for [\"It Wasn't Me\", 'Ignition - Remix']\n",
      "------------------------------------------------------------\n",
      "Track Name                                        Score\n",
      "------------------------------------------------------------\n",
      "Ignition - Remix                                  0.988374\n",
      "It Wasn't Me                                      0.986951\n",
      "Ride Wit Me                                       0.943358\n",
      "Buy U a Drank (Shawty Snappin') (feat. Yung Joc)  0.928722\n",
      "Playin' the Game                                  0.928006\n",
      "Gold Digger                                       0.919052\n",
      "Remix to Ignition                                 0.913630\n",
      "Angel                                             0.910224\n",
      "Yeah!                                             0.909689\n",
      "Suga Suga                                         0.907704\n"
     ]
    }
   ],
   "source": [
    "# example: It Wasn't Me, by Shaggy and Ignition - Remix\n",
    "song_ids = ['1lzr43nnXAijIGYnCT8M8H', '5dNfHmqgr128gMY2tc5CeJ']\n",
    "top_matches = wrmf_helpers.get_top_similar_from_tracks(song_factors, song_ids, n_similar=10, verbose=True)"
   ]
  },
  {
   "cell_type": "markdown",
   "metadata": {},
   "source": [
    "## (1.4) Example: get \"n_similar\" top songs for seed from actual test playlist"
   ]
  },
  {
   "cell_type": "code",
   "execution_count": 5,
   "metadata": {},
   "outputs": [],
   "source": [
    "filename = '/Users/mabasta/Desktop/CS109a/playlist-generation/data/Songs/songs501.csv'\n",
    "cols_ignore = ['pos', 'artist_name', 'artist_uri', 'track_name', 'album_uri', 'duration_ms', 'album_name']\n",
    "df = pd.read_csv(filename).drop(columns = cols_ignore)"
   ]
  },
  {
   "cell_type": "code",
   "execution_count": 6,
   "metadata": {},
   "outputs": [
    {
     "name": "stdout",
     "output_type": "stream",
     "text": [
      "My Girl (feat. T. Gatez)\n",
      "New Religion\n",
      "Broad Shoulders (feat. Chance the Rapper)\n",
      "Free\n",
      "She Moves In Her Own Way\n",
      "Don't Take the Money\n",
      "that one song\n",
      "Lovely\n",
      "Always Like This\n",
      "Twice\n",
      "Caroline\n",
      "Never Seen Anything \"Quite Like You\"\n",
      "Sunshine & Kool-Aid\n",
      "No Such Thing\n",
      "Heart's Content\n",
      "Smoke and Mirrors\n",
      "Best For Last\n",
      "90210 (feat. G-Eazy)\n",
      "Spaces\n",
      "Milk & Honey\n",
      "Don't Dream It's Over\n",
      "Lover Come Back\n",
      "A Dream Is A Wish Your Heart Makes\n"
     ]
    }
   ],
   "source": [
    "# print out the playlist\n",
    "sample_playlists = [group.track_uri for _, group in df.groupby('pid')]\n",
    "test_playlist = sample_playlists[0]\n",
    "test_playlist = test_playlist.str.replace('spotify:track:', '')\n",
    "\n",
    "for tid in test_playlist:\n",
    "    print(wrmf_helpers.get_song_name(tid))"
   ]
  },
  {
   "cell_type": "code",
   "execution_count": 7,
   "metadata": {},
   "outputs": [
    {
     "name": "stdout",
     "output_type": "stream",
     "text": [
      "Found 9 overlaps:\n",
      "Free\n",
      "My Girl (feat. T. Gatez)\n",
      "A Dream Is A Wish Your Heart Makes\n",
      "Milk & Honey\n",
      "Sunshine & Kool-Aid\n",
      "Lovely\n",
      "Caroline\n",
      "New Religion\n",
      "that one song\n"
     ]
    }
   ],
   "source": [
    "# get similar using song to song\n",
    "seed_ids = list(test_playlist[:2])\n",
    "top_matches = wrmf_helpers.get_top_similar_from_tracks(\n",
    "    song_factors,\n",
    "    seed_ids,\n",
    "    n_similar=20000,\n",
    "    verbose=False\n",
    ")\n",
    "overlaps = set(test_playlist).intersection(set(top_matches))\n",
    "print(f\"Found {len(overlaps)} overlaps:\")\n",
    "for overlap in overlaps:\n",
    "    print(wrmf_helpers.get_song_name(overlap))"
   ]
  },
  {
   "cell_type": "code",
   "execution_count": 8,
   "metadata": {},
   "outputs": [
    {
     "name": "stdout",
     "output_type": "stream",
     "text": [
      "Found 14 overlaps:\n",
      "Lover Come Back\n",
      "My Girl (feat. T. Gatez)\n",
      "Twice\n",
      "Milk & Honey\n",
      "She Moves In Her Own Way\n",
      "Sunshine & Kool-Aid\n",
      "No Such Thing\n",
      "Broad Shoulders (feat. Chance the Rapper)\n",
      "Caroline\n",
      "New Religion\n",
      "that one song\n",
      "90210 (feat. G-Eazy)\n",
      "Smoke and Mirrors\n",
      "Always Like This\n"
     ]
    }
   ],
   "source": [
    "# get similar using playlist to song\n",
    "top_matches = wrmf_helpers.get_top_similar_from_playlists(\n",
    "    song_factors,\n",
    "    playlist_factors,\n",
    "    seed_ids,\n",
    "    n_similar_songs=20000,\n",
    "    n_similar_playlists=200\n",
    ")\n",
    "overlaps = set(test_playlist).intersection(set(top_matches))\n",
    "print(f\"Found {len(overlaps)} overlaps:\")\n",
    "for overlap in overlaps:\n",
    "    print(wrmf_helpers.get_song_name(overlap))"
   ]
  },
  {
   "cell_type": "code",
   "execution_count": 9,
   "metadata": {},
   "outputs": [
    {
     "name": "stdout",
     "output_type": "stream",
     "text": [
      "Found 16 overlaps:\n",
      "Lover Come Back\n",
      "My Girl (feat. T. Gatez)\n",
      "Twice\n",
      "Milk & Honey\n",
      "She Moves In Her Own Way\n",
      "Sunshine & Kool-Aid\n",
      "No Such Thing\n",
      "Never Seen Anything \"Quite Like You\"\n",
      "Broad Shoulders (feat. Chance the Rapper)\n",
      "Caroline\n",
      "Heart's Content\n",
      "New Religion\n",
      "that one song\n",
      "90210 (feat. G-Eazy)\n",
      "Smoke and Mirrors\n",
      "Always Like This\n"
     ]
    }
   ],
   "source": [
    "# get similar using ensemble playlist and song\n",
    "\n",
    "top_matches = wrmf_helpers.get_top_similar_from_ensemble(\n",
    "    song_factors,\n",
    "    playlist_factors,\n",
    "    seed_ids,\n",
    "    n_similar_songs=20000,\n",
    "    n_similar_playlists=200\n",
    ")\n",
    "overlaps = set(test_playlist).intersection(set(top_matches))\n",
    "print(f\"Found {len(overlaps)} overlaps:\")\n",
    "for overlap in overlaps:\n",
    "    print(wrmf_helpers.get_song_name(overlap))"
   ]
  },
  {
   "cell_type": "markdown",
   "metadata": {},
   "source": [
    "## (1.5) Visualizations"
   ]
  },
  {
   "cell_type": "code",
   "execution_count": 10,
   "metadata": {},
   "outputs": [],
   "source": [
    "output_sizes = [500, 1000, 5000, 10000, 15000, 20000, 30000]\n",
    "\n",
    "with open('data/wrmf_models_results.pickle', 'rb') as f:\n",
    "    song_to_song, playlist_to_song, ensemble = pickle.load(f)"
   ]
  },
  {
   "cell_type": "code",
   "execution_count": 11,
   "metadata": {},
   "outputs": [
    {
     "data": {
      "image/png": "[encoded data removed]",
      "text/plain": [
       "<Figure size 864x432 with 1 Axes>"
      ]
     },
     "metadata": {
      "needs_background": "light"
     },
     "output_type": "display_data"
    }
   ],
   "source": [
    "fig, ax = plt.subplots(1, 1, figsize=(12,6))\n",
    "x = output_sizes\n",
    "ax.plot(x, [np.array(v).mean() for v in song_to_song.values()], label='song to song')\n",
    "ax.plot(x, [np.array(v).mean() for v in playlist_to_song.values()], label='playlist to song')\n",
    "ax.plot(x, [np.array(v).mean() for v in ensemble.values()], label='ensemble')\n",
    "ax.legend()\n",
    "\n",
    "ax.set_xlabel(\"Number of songs output from Model\")\n",
    "ax.set_ylabel(\"Percent of playlist included in output songs\")\n",
    "\n",
    "plt.show()"
   ]
  },
  {
   "cell_type": "markdown",
   "metadata": {},
   "source": [
    "# 2. Extract Features for stage 2"
   ]
  },
  {
   "cell_type": "markdown",
   "metadata": {},
   "source": [
    "## (2.1) Extract and store features"
   ]
  },
  {
   "cell_type": "code",
   "execution_count": 12,
   "metadata": {},
   "outputs": [
    {
     "data": {
      "text/plain": [
       "'\\nDO NOT RUN THIS CODE. IT WILL TAKE FOREVER. USE THE STORED PICKLE FILES.\\n'"
      ]
     },
     "execution_count": 12,
     "metadata": {},
     "output_type": "execute_result"
    }
   ],
   "source": [
    "\"\"\"\n",
    "DO NOT RUN THIS CODE. IT WILL TAKE FOREVER. USE THE STORED PICKLE FILES.\n",
    "\"\"\"\n",
    "# train_playlists = []\n",
    "# for i in range(1, 10):\n",
    "#     filename = f'/Users/mabasta/Desktop/CS109a/playlist-generation/data/Songs/songs{i}.csv'\n",
    "#     cols_ignore = ['pos', 'artist_name', 'artist_uri', 'track_name', 'album_uri', 'duration_ms', 'album_name']\n",
    "#     df = pd.read_csv(filename).drop(columns = cols_ignore)\n",
    "#     train_playlists.extend([group.track_uri for _, group in df.groupby('pid')])\n",
    "\n",
    "# val_playlists = []\n",
    "# for i in range(10, 12):\n",
    "#     filename = f'/Users/mabasta/Desktop/CS109a/playlist-generation/data/Songs/songs{i}.csv'\n",
    "#     cols_ignore = ['pos', 'artist_name', 'artist_uri', 'track_name', 'album_uri', 'duration_ms', 'album_name']\n",
    "#     df = pd.read_csv(filename).drop(columns = cols_ignore)\n",
    "#     val_playlists.extend([group.track_uri for _, group in df.groupby('pid')])\n",
    "\n",
    "# _, tid_to_idx, _, _, _ = wrmf_helpers.get_user_item_sparse_matrix(PATH_TO_SPARSE_MATRIX)\n",
    "\n",
    "# \"\"\"\n",
    "# Generate train dataset from stage 1 data\n",
    "# \"\"\"\n",
    "# train_dfs = []\n",
    "# start_time = time.time()\n",
    "# start = 0\n",
    "# end = 3000\n",
    "# for i in range(start, end):\n",
    "#     try:\n",
    "#         if len(train_playlists[i]) > 2:\n",
    "#             train_dfs.append(compute_df(train_playlists[i], song_factors, playlist_factors))\n",
    "# #             train_dfs.append(compute_df_v2(train_playlists[i])\n",
    "#     except (KeyError, AttributeError) as e:\n",
    "#         print(f'Error on playlist{i}. Skipping')\n",
    "\n",
    "#     current_time = time.time()\n",
    "#     elapsed_time = current_time - start_time\n",
    "#     time_left = (end-start) * elapsed_time / float(i+1-start) - elapsed_time\n",
    "#     sys.stdout.write(\n",
    "#         f\"\\rParsed playlist {i+1}. Time elapsed: {str(datetime.timedelta(seconds=elapsed_time))[:-7]}. Time remaining: {str(datetime.timedelta(seconds=time_left))[:-7]}\")\n",
    "#     sys.stdout.flush()\n",
    "\n",
    "# train_df = pd.concat(train_dfs)\n",
    "\n",
    "# with open('../data/stage_2_train.pickle', 'wb') as f:\n",
    "#     pickle.dump(train_df , f)\n",
    "    \n",
    "\n",
    "# val_dfs = []\n",
    "# start_time = time.time()\n",
    "# start = 0\n",
    "# end = 100\n",
    "# for i in range(start, end):\n",
    "#     try:\n",
    "#         if len(val_playlists[i]) > 2:\n",
    "#     #         val_dfs.append(compute_df_v2(val_playlists[i]))\n",
    "#             val_dfs.append(compute_df(val_playlists[i], song_factors, playlist_factors))\n",
    "#     except (KeyError, AttributeError) as e:\n",
    "#         print(f'Error on playlist{i}. Skipping')\n",
    "#     current_time = time.time()\n",
    "#     elapsed_time = current_time - start_time\n",
    "#     time_left = (end-start) * elapsed_time / float(i+1-start) - elapsed_time\n",
    "#     sys.stdout.write(\n",
    "#         f\"\\rParsed playlist {i+1}. Time elapsed: {str(datetime.timedelta(seconds=elapsed_time))[:-7]}. Time remaining: {str(datetime.timedelta(seconds=time_left))[:-7]}\")\n",
    "#     sys.stdout.flush()\n",
    "\n",
    "# val_df = pd.concat(val_dfs)\n",
    "\n",
    "# \"\"\"\n",
    "# Generate validation dataset from stage 1 data\n",
    "# \"\"\"\n",
    "# with open('../data/stage_2_val.pickle', 'wb') as f:\n",
    "#     pickle.dump(val_df , f)"
   ]
  },
  {
   "cell_type": "markdown",
   "metadata": {},
   "source": [
    "# 3. Train stage 2 models"
   ]
  },
  {
   "cell_type": "code",
   "execution_count": 13,
   "metadata": {},
   "outputs": [],
   "source": [
    "with open('data/stage_2_train.pickle', 'rb') as f:\n",
    "    train_df = pickle.load(f)\n",
    "with open('data/stage_2_val.pickle', 'rb') as f:\n",
    "    val_df = pickle.load(f)"
   ]
  },
  {
   "cell_type": "code",
   "execution_count": 14,
   "metadata": {},
   "outputs": [
    {
     "name": "stdout",
     "output_type": "stream",
     "text": [
      "(54592, 16)\n",
      "(54592,)\n",
      "(1752, 16)\n",
      "(1752,)\n"
     ]
    }
   ],
   "source": [
    "ytrain = train_df['relevence']\n",
    "Xtrain = train_df.drop('relevence', axis=1)\n",
    "\n",
    "yval = val_df['relevence']\n",
    "Xval = val_df.drop('relevence', axis=1)\n",
    "\n",
    "print(Xtrain.shape)\n",
    "print(ytrain.shape)\n",
    "print(Xval.shape)\n",
    "print(yval.shape)"
   ]
  },
  {
   "cell_type": "markdown",
   "metadata": {},
   "source": [
    "### Logistic Regression"
   ]
  },
  {
   "cell_type": "code",
   "execution_count": 15,
   "metadata": {},
   "outputs": [
    {
     "name": "stdout",
     "output_type": "stream",
     "text": [
      "Logistic regression training accuracy: 50.00\n",
      "Logistic regression test accuracy: 50.00\n"
     ]
    }
   ],
   "source": [
    "log_model = LogisticRegressionCV(cv=3).fit(Xtrain, ytrain)\n",
    "\n",
    "pred_train = log_model.predict(Xtrain)\n",
    "print(\"Logistic regression training accuracy: %.2f\" % (accuracy_score(ytrain, pred_train) * 100))\n",
    "\n",
    "pred_val = log_model.predict(Xval)\n",
    "print(\"Logistic regression test accuracy: %.2f\" % (accuracy_score(yval, pred_val) * 100))"
   ]
  },
  {
   "cell_type": "markdown",
   "metadata": {},
   "source": [
    "### Decision Tree w/ CV¶"
   ]
  },
  {
   "cell_type": "code",
   "execution_count": 16,
   "metadata": {},
   "outputs": [
    {
     "name": "stdout",
     "output_type": "stream",
     "text": [
      "DT training accuracy: 63.90\n",
      "DT test accuracy: 62.04\n"
     ]
    }
   ],
   "source": [
    "depths = np.arange(1, 16, 2)\n",
    "dt_model = GridSearchCV(\n",
    "    DecisionTreeClassifier(),\n",
    "    dict(max_depth = depths),\n",
    "    cv=5,\n",
    "    return_train_score=True\n",
    ").fit(Xtrain, ytrain)\n",
    "\n",
    "pred_train = dt_model.predict(Xtrain)\n",
    "print(\"DT training accuracy: %.2f\" % (accuracy_score(ytrain, pred_train) * 100))\n",
    "\n",
    "pred_val = dt_model.predict(Xval)\n",
    "print(\"DT test accuracy: %.2f\" % (accuracy_score(yval, pred_val) * 100))"
   ]
  },
  {
   "cell_type": "markdown",
   "metadata": {},
   "source": [
    "### XG Boost"
   ]
  },
  {
   "cell_type": "code",
   "execution_count": 17,
   "metadata": {},
   "outputs": [
    {
     "name": "stdout",
     "output_type": "stream",
     "text": [
      "XG Boost training accuracy: 90.52\n",
      "XG Boost test accuracy: 69.29\n"
     ]
    }
   ],
   "source": [
    "xgb_model = xgb.XGBClassifier(n_estimators=150, max_depth=10, learning_rate=0.1, subsample=0.5).fit(Xtrain, ytrain)\n",
    "\n",
    "pred_train = xgb_model.predict(Xtrain)\n",
    "print(\"XG Boost training accuracy: %.2f\" % (accuracy_score(ytrain, pred_train) * 100))\n",
    "\n",
    "pred_val = xgb_model.predict(Xval)\n",
    "print(\"XG Boost test accuracy: %.2f\" % (accuracy_score(yval, pred_val) * 100))"
   ]
  },
  {
   "cell_type": "markdown",
   "metadata": {},
   "source": [
    "# 4. Test for clicks on witheld playlists"
   ]
  },
  {
   "cell_type": "code",
   "execution_count": 18,
   "metadata": {},
   "outputs": [],
   "source": [
    "test_playlists = []\n",
    "for i in range(800, 810):\n",
    "    filename = f'/Users/mabasta/Desktop/CS109a/playlist-generation/data/Songs/songs{i}.csv'\n",
    "    cols_ignore = ['pos', 'artist_name', 'artist_uri', 'track_name', 'album_uri', 'duration_ms', 'album_name']\n",
    "    df = pd.read_csv(filename).drop(columns = cols_ignore)\n",
    "    test_playlists.extend([group.track_uri for _, group in df.groupby('pid')])"
   ]
  },
  {
   "cell_type": "code",
   "execution_count": 21,
   "metadata": {},
   "outputs": [
    {
     "name": "stdout",
     "output_type": "stream",
     "text": [
      "44.416666666666664\n",
      "34.5\n"
     ]
    }
   ],
   "source": [
    "# Logistic Regression \n",
    "start = 1\n",
    "end = 40\n",
    "\n",
    "log_clicks = []\n",
    "for i in range(start, end):\n",
    "    try:\n",
    "        if len(test_playlists[i]) > 50:\n",
    "            click_score = get_model_clickscore(test_playlists[i], log_model)\n",
    "            log_clicks.append(click_score)\n",
    "    except (KeyError, AttributeError):\n",
    "        pass\n",
    "\n",
    "print(pd.Series(log_clicks).mean())\n",
    "print(pd.Series(log_clicks).median())"
   ]
  },
  {
   "cell_type": "code",
   "execution_count": 19,
   "metadata": {},
   "outputs": [
    {
     "name": "stdout",
     "output_type": "stream",
     "text": [
      "90.8695652173913\n",
      "49.0\n"
     ]
    }
   ],
   "source": [
    "# Decision Tree w/ CV test\n",
    "start = 1\n",
    "end = 40\n",
    "\n",
    "dt_clicks = []\n",
    "for i in range(start, end):\n",
    "    try:\n",
    "        if len(test_playlists[i]) > 50:\n",
    "            click_score = get_model_clickscore(test_playlists[i], dt_model)\n",
    "            dt_clicks.append(click_score)\n",
    "    except (KeyError, AttributeError):\n",
    "        pass\n",
    "\n",
    "print(pd.Series(dt_clicks).mean())\n",
    "print(pd.Series(dt_clicks).median())"
   ]
  },
  {
   "cell_type": "code",
   "execution_count": 20,
   "metadata": {},
   "outputs": [
    {
     "name": "stdout",
     "output_type": "stream",
     "text": [
      "65.9090909090909\n",
      "28.0\n"
     ]
    }
   ],
   "source": [
    "# XG boost test\n",
    "start = 1\n",
    "end = 40\n",
    "\n",
    "xgb_clicks = []\n",
    "for i in range(start, end):\n",
    "    try:\n",
    "        if len(test_playlists[i]) > 50:\n",
    "            click_score = get_model_clickscore(test_playlists[i], xgb_model)\n",
    "            xgb_clicks.append(click_score)\n",
    "    except (KeyError, AttributeError):\n",
    "        pass\n",
    "\n",
    "print(pd.Series(xgb_clicks).mean())\n",
    "print(pd.Series(xgb_clicks).median())"
   ]
  },
  {
   "cell_type": "code",
   "execution_count": 25,
   "metadata": {},
   "outputs": [
    {
     "data": {
      "image/png": "[encoded data removed]",
      "text/plain": [
       "<Figure size 432x288 with 1 Axes>"
      ]
     },
     "metadata": {
      "needs_background": "light"
     },
     "output_type": "display_data"
    }
   ],
   "source": [
    "x = ['Logistic regression clicks', 'DT clicks', 'XG boost clicks']\n",
    "y = [pd.Series(log_clicks).median(), pd.Series(dt_clicks).median(), pd.Series(xgb_clicks).median()]\n",
    "plt.bar(x, y)\n",
    "plt.title(\"Median clicks after stage 2\")\n",
    "plt.show()"
   ]
  },
  {
   "cell_type": "code",
   "execution_count": null,
   "metadata": {},
   "outputs": [],
   "source": []
  }
 ],
 "metadata": {
  "kernelspec": {
   "display_name": "Python 3",
   "language": "python",
   "name": "python3"
  },
  "language_info": {
   "codemirror_mode": {
    "name": "ipython",
    "version": 3
   },
   "file_extension": ".py",
   "mimetype": "text/x-python",
   "name": "python",
   "nbconvert_exporter": "python",
   "pygments_lexer": "ipython3",
   "version": "3.7.4"
  }
 },
 "nbformat": 4,
 "nbformat_minor": 2
}
