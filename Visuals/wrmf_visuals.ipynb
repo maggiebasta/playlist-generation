{
 "cells": [
  {
   "cell_type": "code",
   "execution_count": 1,
   "metadata": {},
   "outputs": [],
   "source": [
    "import pandas as pd\n",
    "import numpy as np\n",
    "import scipy.sparse as sparse\n",
    "from sklearn.metrics import mean_squared_error\n",
    "import os\n",
    "import sys\n",
    "import pickle\n",
    "import itertools\n",
    "import matplotlib.pyplot as plt\n",
    "\n",
    "sys.path.append('../Models')\n",
    "sys.path.append('../')\n",
    "\n",
    "import wrmf, wrmf_helpers\n",
    "import evaluation\n",
    "from settings import PATH_TO_SPARSE_MATRIX"
   ]
  },
  {
   "cell_type": "markdown",
   "metadata": {},
   "source": [
    "## Get the song factorization "
   ]
  },
  {
   "cell_type": "code",
   "execution_count": 2,
   "metadata": {},
   "outputs": [
    {
     "name": "stdout",
     "output_type": "stream",
     "text": [
      "(2029866, 20)\n",
      "(800000, 20)\n"
     ]
    }
   ],
   "source": [
    "with open('../Models/wrmf_factors.pickle', 'rb') as f:\n",
    "    playlist_factors, song_factors = pickle.load(f)\n",
    "\n",
    "print(song_factors.shape)\n",
    "print(playlist_factors.shape)"
   ]
  },
  {
   "cell_type": "markdown",
   "metadata": {},
   "source": [
    "# Compute percentages of playlists returned for 3 stage 1 models"
   ]
  },
  {
   "cell_type": "code",
   "execution_count": 3,
   "metadata": {},
   "outputs": [],
   "source": [
    "test_playlists = []\n",
    "for i in range(800, 810):\n",
    "    filename = f'/Users/mabasta/Desktop/CS109a/playlist-generation/data/Songs/songs{i}.csv'\n",
    "    cols_ignore = ['pos', 'artist_name', 'artist_uri', 'track_name', 'album_uri', 'duration_ms', 'album_name']\n",
    "    df = pd.read_csv(filename).drop(columns = cols_ignore)\n",
    "    test_playlists.extend([group.track_uri for _, group in df.groupby('pid')])\n",
    "\n",
    "_, tid_to_idx, _, _, _ = wrmf_helpers.get_user_item_sparse_matrix(PATH_TO_SPARSE_MATRIX)    "
   ]
  },
  {
   "cell_type": "code",
   "execution_count": 4,
   "metadata": {
    "scrolled": true
   },
   "outputs": [
    {
     "name": "stdout",
     "output_type": "stream",
     "text": [
      "0 500\n",
      "0 1000\n",
      "0 5000\n",
      "0 10000\n",
      "0 15000\n",
      "0 20000\n",
      "0 30000\n",
      "1 500\n",
      "1 1000\n",
      "1 5000\n",
      "1 10000\n",
      "1 15000\n",
      "1 20000\n",
      "1 30000\n",
      "2 500\n",
      "2 1000\n",
      "2 5000\n",
      "2 10000\n",
      "2 15000\n",
      "2 20000\n",
      "2 30000\n",
      "3 500\n",
      "3 1000\n",
      "3 5000\n",
      "3 10000\n",
      "3 15000\n",
      "3 20000\n",
      "3 30000\n",
      "4 500\n",
      "4 1000\n",
      "4 5000\n",
      "4 10000\n",
      "4 15000\n",
      "4 20000\n",
      "4 30000\n",
      "5 500\n",
      "5 1000\n",
      "5 5000\n",
      "5 10000\n",
      "5 15000\n",
      "5 20000\n",
      "5 30000\n",
      "6 500\n",
      "6 1000\n",
      "6 5000\n",
      "6 10000\n",
      "6 15000\n",
      "6 20000\n",
      "6 30000\n",
      "7 500\n",
      "7 1000\n",
      "7 5000\n",
      "7 10000\n",
      "7 15000\n",
      "7 20000\n",
      "7 30000\n",
      "8 500\n",
      "8 1000\n",
      "8 5000\n",
      "8 10000\n",
      "8 15000\n",
      "8 20000\n",
      "8 30000\n",
      "9 500\n",
      "9 1000\n",
      "9 5000\n",
      "9 10000\n",
      "9 15000\n",
      "9 20000\n",
      "9 30000\n",
      "10 500\n",
      "10 1000\n",
      "10 5000\n",
      "10 10000\n",
      "10 15000\n",
      "10 20000\n",
      "10 30000\n",
      "11 500\n",
      "11 1000\n",
      "11 5000\n",
      "11 10000\n",
      "11 15000\n",
      "11 20000\n",
      "11 30000\n",
      "12 500\n",
      "12 1000\n",
      "12 5000\n",
      "12 10000\n",
      "12 15000\n",
      "12 20000\n",
      "12 30000\n",
      "13 500\n",
      "13 1000\n",
      "13 5000\n",
      "13 10000\n",
      "13 15000\n",
      "13 20000\n",
      "13 30000\n",
      "14 500\n",
      "14 1000\n",
      "14 5000\n",
      "14 10000\n",
      "14 15000\n",
      "14 20000\n",
      "14 30000\n",
      "15 500\n",
      "15 1000\n",
      "15 5000\n",
      "15 10000\n",
      "15 15000\n",
      "15 20000\n",
      "15 30000\n",
      "16 500\n",
      "16 1000\n",
      "16 5000\n",
      "16 10000\n",
      "16 15000\n",
      "16 20000\n",
      "16 30000\n",
      "17 500\n",
      "17 1000\n",
      "17 5000\n",
      "17 10000\n",
      "17 15000\n",
      "17 20000\n",
      "17 30000\n",
      "18 500\n",
      "18 1000\n",
      "18 5000\n",
      "18 10000\n",
      "18 15000\n",
      "18 20000\n",
      "18 30000\n",
      "19 500\n",
      "19 1000\n",
      "19 5000\n",
      "19 10000\n",
      "19 15000\n",
      "19 20000\n",
      "19 30000\n",
      "20 500\n",
      "20 1000\n",
      "20 5000\n",
      "20 10000\n",
      "20 15000\n",
      "20 20000\n",
      "20 30000\n",
      "21 500\n",
      "21 1000\n",
      "21 5000\n",
      "21 10000\n",
      "21 15000\n",
      "21 20000\n",
      "21 30000\n",
      "22 500\n",
      "22 1000\n",
      "22 5000\n",
      "22 10000\n",
      "22 15000\n",
      "22 20000\n",
      "22 30000\n",
      "23 500\n",
      "23 1000\n",
      "23 5000\n",
      "23 10000\n",
      "23 15000\n",
      "23 20000\n",
      "23 30000\n",
      "24 500\n",
      "24 1000\n",
      "24 5000\n",
      "24 10000\n",
      "24 15000\n",
      "24 20000\n",
      "24 30000\n",
      "25 500\n",
      "25 1000\n",
      "25 5000\n",
      "25 10000\n",
      "25 15000\n",
      "25 20000\n",
      "25 30000\n",
      "26 500\n",
      "26 1000\n",
      "26 5000\n",
      "26 10000\n",
      "26 15000\n",
      "26 20000\n",
      "26 30000\n",
      "27 500\n",
      "27 1000\n",
      "27 5000\n",
      "27 10000\n",
      "27 15000\n",
      "27 20000\n",
      "27 30000\n",
      "28 500\n",
      "28 1000\n",
      "28 5000\n",
      "28 10000\n",
      "28 15000\n",
      "28 20000\n",
      "28 30000\n",
      "29 500\n",
      "29 1000\n",
      "29 5000\n",
      "29 10000\n",
      "29 15000\n",
      "29 20000\n",
      "29 30000\n"
     ]
    }
   ],
   "source": [
    "# \"\"\"\n",
    "# Use precomputed results from data/viz_data\n",
    "# \"\"\"  \n",
    "    \n",
    "output_sizes = [500, 1000, 5000, 10000, 15000, 20000, 30000]\n",
    "song_to_song = {size: [] for size in output_sizes}\n",
    "playlist_to_song = {size: [] for size in output_sizes}\n",
    "ensemble = {size: [] for size in output_sizes}\n",
    "\n",
    "for i, test_playlist in enumerate(test_playlists[:30]):\n",
    "    test_playlist = test_playlist.str.replace('spotify:track:', '')\n",
    "    n = len(test_playlist)\n",
    "    test_playlist_set = set(test_playlist)\n",
    "    seed_ids = []\n",
    "    while len(seed_ids) < 2:\n",
    "        rand =list(test_playlist.sample(n=1))[0]\n",
    "        if rand in tid_to_idx:\n",
    "            seed_ids.append(rand)\n",
    "    for output_size in output_sizes:\n",
    "        print(i, output_size)\n",
    "        song_to_song_matches = wrmf_helpers.get_top_similar_from_tracks(\n",
    "            song_factors,\n",
    "            seed_ids,\n",
    "            n_similar=output_size,\n",
    "            verbose=False\n",
    "        )\n",
    "        song_to_song[output_size].append(len(test_playlist_set.intersection(set(song_to_song_matches)))/n)\n",
    "\n",
    "        playlist_to_song_matches = wrmf_helpers.get_top_similar_from_playlists(\n",
    "            song_factors,\n",
    "            playlist_factors,\n",
    "            seed_ids,\n",
    "            n_similar_songs=output_size,\n",
    "            n_similar_playlists=200\n",
    "        )\n",
    "        playlist_to_song[output_size].append(len(test_playlist_set.intersection(set(playlist_to_song_matches)))/n)\n",
    "\n",
    "        ensemble_matches = wrmf_helpers.get_top_similar_from_ensemble(\n",
    "            song_factors,\n",
    "            playlist_factors,\n",
    "            seed_ids,\n",
    "            n_similar_songs=output_size,\n",
    "            n_similar_playlists=200\n",
    "        )\n",
    "        ensemble[output_size].append(len(test_playlist_set.intersection(set(ensemble_matches)))/n)\n",
    "\n",
    "with open('../data/viz_data/wrmf_models_results.pickle', 'wb') as fd:\n",
    "    pickle.dump((song_to_song, playlist_to_song, ensemble), fd)"
   ]
  },
  {
   "cell_type": "code",
   "execution_count": 6,
   "metadata": {},
   "outputs": [],
   "source": [
    "output_sizes = [500, 1000, 5000, 10000, 15000, 20000, 30000]\n",
    "\n",
    "with open('../data/viz_data/wrmf_models_results.pickle', 'rb') as f:\n",
    "    song_to_song, playlist_to_song, ensemble = pickle.load(f)"
   ]
  },
  {
   "cell_type": "code",
   "execution_count": 7,
   "metadata": {},
   "outputs": [
    {
     "data": {
      "image/png": "[encoded data removed]",
      "text/plain": [
       "<Figure size 864x432 with 1 Axes>"
      ]
     },
     "metadata": {
      "needs_background": "light"
     },
     "output_type": "display_data"
    }
   ],
   "source": [
    "fig, ax = plt.subplots(1, 1, figsize=(12,6))\n",
    "x = output_sizes\n",
    "ax.plot(x, [np.array(v).mean() for v in song_to_song.values()], label='song to song')\n",
    "ax.plot(x, [np.array(v).mean() for v in playlist_to_song.values()], label='playlist to song')\n",
    "ax.plot(x, [np.array(v).mean() for v in ensemble.values()], label='ensemble')\n",
    "ax.legend()\n",
    "\n",
    "ax.set_xlabel(\"Number of songs output from Model\")\n",
    "ax.set_ylabel(\"Percent of playlist included in output songs\")\n",
    "\n",
    "plt.show()"
   ]
  },
  {
   "cell_type": "markdown",
   "metadata": {},
   "source": [
    "# Compute average \"clicks\""
   ]
  },
  {
   "cell_type": "code",
   "execution_count": 8,
   "metadata": {
    "scrolled": true
   },
   "outputs": [
    {
     "name": "stdout",
     "output_type": "stream",
     "text": [
      "0\n",
      "1\n",
      "2\n",
      "3\n",
      "4\n",
      "5\n",
      "6\n",
      "7\n",
      "8\n",
      "9\n",
      "10\n",
      "11\n",
      "12\n",
      "13\n",
      "14\n",
      "15\n",
      "16\n",
      "17\n",
      "18\n",
      "19\n",
      "20\n",
      "21\n",
      "22\n",
      "23\n",
      "24\n",
      "25\n",
      "26\n",
      "27\n",
      "28\n",
      "29\n",
      "30\n",
      "31\n",
      "32\n",
      "33\n",
      "34\n",
      "35\n",
      "36\n",
      "37\n",
      "38\n",
      "39\n",
      "40\n",
      "41\n",
      "42\n",
      "43\n",
      "44\n",
      "45\n",
      "46\n",
      "47\n",
      "48\n",
      "49\n"
     ]
    }
   ],
   "source": [
    "\"\"\"\n",
    "Use precomputed results from data/viz_data\n",
    "\"\"\"   \n",
    "\n",
    "song_to_song_clicks = []\n",
    "playlist_to_song_clicks = []\n",
    "ensemble_clicks = []\n",
    "\n",
    "for i, test_playlist in enumerate(test_playlists[:50]):\n",
    "    print(i)\n",
    "    test_playlist = test_playlist.str.replace('spotify:track:', '')\n",
    "    seed_ids = []\n",
    "    while len(seed_ids) < 2:\n",
    "        rand =list(test_playlist.sample(n=1))[0]\n",
    "        if rand in tid_to_idx:\n",
    "            seed_ids.append(rand)\n",
    "\n",
    "    song_to_song_matches = wrmf_helpers.get_top_similar_from_tracks(\n",
    "        song_factors,\n",
    "        seed_ids,\n",
    "        n_similar=20000,\n",
    "        verbose=False\n",
    "    )\n",
    "    song_to_song_clicks.append(\n",
    "        evaluation.eval_clicks(test_playlist, song_to_song_matches, seed_ids)\n",
    "    )\n",
    "                \n",
    "                \n",
    "    playlist_to_song_matches = wrmf_helpers.get_top_similar_from_playlists(\n",
    "        song_factors,\n",
    "        playlist_factors,\n",
    "        seed_ids,\n",
    "        n_similar_songs=20000,\n",
    "        n_similar_playlists=200\n",
    "    )\n",
    "    playlist_to_song_clicks.append(\n",
    "        evaluation.eval_clicks(test_playlist, playlist_to_song_matches, seed_ids)\n",
    "    )\n",
    "    \n",
    "    ensemble_matches = wrmf_helpers.get_top_similar_from_ensemble(\n",
    "        song_factors,\n",
    "        playlist_factors,\n",
    "        seed_ids,\n",
    "        n_similar_songs=20000,\n",
    "        n_similar_playlists=200\n",
    "    )\n",
    "    ensemble_clicks.append(\n",
    "        evaluation.eval_clicks(test_playlist, ensemble_matches, seed_ids)\n",
    "    )\n",
    "\n",
    "with open('../data/viz_data/wrmf_songclick_results.pickle', 'wb') as fd:\n",
    "    pickle.dump((song_to_song_clicks, playlist_to_song_clicks, ensemble_clicks), fd)"
   ]
  },
  {
   "cell_type": "code",
   "execution_count": 9,
   "metadata": {},
   "outputs": [],
   "source": [
    "with open('../data/viz_data/wrmf_songclick_results.pickle', 'rb') as fd:\n",
    "    song_to_song_clicks, playlist_to_song_clicks, ensemble_clicks = pickle.load(fd)"
   ]
  },
  {
   "cell_type": "code",
   "execution_count": 10,
   "metadata": {},
   "outputs": [
    {
     "name": "stdout",
     "output_type": "stream",
     "text": [
      "Average clicks for song to song: 17.44\n",
      "Median clicks for song to song: 2.0\n"
     ]
    },
    {
     "data": {
      "image/png": "[encoded data removed]",
      "text/plain": [
       "<Figure size 432x288 with 1 Axes>"
      ]
     },
     "metadata": {
      "needs_background": "light"
     },
     "output_type": "display_data"
    }
   ],
   "source": [
    "song_to_song_clicks = pd.Series(song_to_song_clicks).replace([np.inf, -np.inf], np.nan).dropna()\n",
    "print(f\"Average clicks for song to song: {song_to_song_clicks.mean()}\")\n",
    "print(f\"Median clicks for song to song: {song_to_song_clicks.median()}\")\n",
    "plt.hist(song_to_song_clicks)\n",
    "plt.title(\"Distribution of Clicks for Song to Song\")\n",
    "plt.show()"
   ]
  },
  {
   "cell_type": "code",
   "execution_count": 11,
   "metadata": {},
   "outputs": [
    {
     "name": "stdout",
     "output_type": "stream",
     "text": [
      "Average clicks for playlist to song: 1336.26\n",
      "Median clicks for playlist to song: 1311.5\n"
     ]
    },
    {
     "data": {
      "image/png": "[encoded data removed]",
      "text/plain": [
       "<Figure size 432x288 with 1 Axes>"
      ]
     },
     "metadata": {
      "needs_background": "light"
     },
     "output_type": "display_data"
    }
   ],
   "source": [
    "playlist_to_song_clicks = pd.Series(playlist_to_song_clicks).replace([np.inf, -np.inf], np.nan).dropna()\n",
    "print(f\"Average clicks for playlist to song: {playlist_to_song_clicks.mean()}\")\n",
    "print(f\"Median clicks for playlist to song: {playlist_to_song_clicks.median()}\")\n",
    "plt.hist(playlist_to_song_clicks)\n",
    "plt.title(\"Distribution of Clicks for Playlist to Song\")\n",
    "plt.show()"
   ]
  },
  {
   "cell_type": "code",
   "execution_count": 12,
   "metadata": {},
   "outputs": [
    {
     "name": "stdout",
     "output_type": "stream",
     "text": [
      "Average clicks for ensemble: 720.14\n",
      "Median clicks for ensemble: 580.0\n"
     ]
    },
    {
     "data": {
      "image/png": "[encoded data removed]",
      "text/plain": [
       "<Figure size 432x288 with 1 Axes>"
      ]
     },
     "metadata": {
      "needs_background": "light"
     },
     "output_type": "display_data"
    }
   ],
   "source": [
    "ensemble_clicks = pd.Series(ensemble_clicks).replace([np.inf, -np.inf], np.nan).dropna()\n",
    "print(f\"Average clicks for ensemble: {ensemble_clicks.mean()}\")\n",
    "print(f\"Median clicks for ensemble: {ensemble_clicks.median()}\")\n",
    "plt.hist(ensemble_clicks)\n",
    "plt.title(\"Distribution of Clicks for Ensemble\")\n",
    "plt.show()"
   ]
  },
  {
   "cell_type": "code",
   "execution_count": null,
   "metadata": {},
   "outputs": [],
   "source": []
  }
 ],
 "metadata": {
  "kernelspec": {
   "display_name": "Python 3",
   "language": "python",
   "name": "python3"
  },
  "language_info": {
   "codemirror_mode": {
    "name": "ipython",
    "version": 3
   },
   "file_extension": ".py",
   "mimetype": "text/x-python",
   "name": "python",
   "nbconvert_exporter": "python",
   "pygments_lexer": "ipython3",
   "version": "3.7.4"
  }
 },
 "nbformat": 4,
 "nbformat_minor": 2
}
