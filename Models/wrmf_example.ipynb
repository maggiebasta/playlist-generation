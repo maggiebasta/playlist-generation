{
 "cells": [
  {
   "cell_type": "code",
   "execution_count": 3,
   "metadata": {},
   "outputs": [],
   "source": [
    "import pandas as pd\n",
    "import numpy as np\n",
    "import scipy.sparse as sparse\n",
    "from sklearn.metrics import mean_squared_error\n",
    "import os\n",
    "import sys\n",
    "import pickle\n",
    "import itertools\n",
    "\n",
    "sys.path.append('../Models')\n",
    "sys.path.append('../')\n",
    "\n",
    "import wrmf, wrmf_helpers\n",
    "from settings import PATH_TO_SPARSE_MATRIX"
   ]
  },
  {
   "cell_type": "markdown",
   "metadata": {},
   "source": [
    "# (1) Compute the wrmf factors "
   ]
  },
  {
   "cell_type": "code",
   "execution_count": 4,
   "metadata": {},
   "outputs": [
    {
     "data": {
      "text/plain": [
       "'\\nNOTE: ONLY RUN THIS IF YOU WANT TO RECOMPUTE WRMF WITH NEW PARAMS.\\nOTHERWISE USE PRECOMPUTED FACTORIZATION (STORED LOCALLY/IN DRIVE)\\n'"
      ]
     },
     "execution_count": 4,
     "metadata": {},
     "output_type": "execute_result"
    }
   ],
   "source": [
    "\"\"\"\n",
    "NOTE: ONLY RUN THIS IF YOU WANT TO RECOMPUTE WRMF WITH NEW PARAMS.\n",
    "OTHERWISE USE PRECOMPUTED FACTORIZATION (STORED LOCALLY/IN DRIVE)\n",
    "\"\"\"\n",
    "# params = {\n",
    "#     'factors': 20,\n",
    "#     'reg': 0.1,\n",
    "#     'iters': 20,\n",
    "#     'alpha': 15\n",
    "# }\n",
    "# song_factors = get_wrmf_factors.get_fitted_wrmf(PATH_TO_SPARSE_MATRIX, params)"
   ]
  },
  {
   "cell_type": "markdown",
   "metadata": {},
   "source": [
    "# (2) Get the song factorization "
   ]
  },
  {
   "cell_type": "code",
   "execution_count": 5,
   "metadata": {},
   "outputs": [
    {
     "name": "stdout",
     "output_type": "stream",
     "text": [
      "(2029866, 20)\n",
      "(800000, 20)\n"
     ]
    }
   ],
   "source": [
    "with open('wrmf_factors.pickle', 'rb') as f:\n",
    "    playlist_factors, song_factors = pickle.load(f)\n",
    "\n",
    "print(song_factors.shape)\n",
    "print(playlist_factors.shape)"
   ]
  },
  {
   "cell_type": "markdown",
   "metadata": {},
   "source": [
    "# (3) Example: get \"n_similar\" top songs for random seed songs "
   ]
  },
  {
   "cell_type": "code",
   "execution_count": 6,
   "metadata": {},
   "outputs": [
    {
     "name": "stdout",
     "output_type": "stream",
     "text": [
      "\n",
      "Recommended Songs for [\"It Wasn't Me\", 'Ignition - Remix']\n",
      "------------------------------------------------------------\n",
      "Track Name                                        Score\n",
      "------------------------------------------------------------\n",
      "Ignition - Remix                                  0.988374\n",
      "It Wasn't Me                                      0.986951\n",
      "Ride Wit Me                                       0.943358\n",
      "Buy U a Drank (Shawty Snappin') (feat. Yung Joc)  0.928722\n",
      "Playin' the Game                                  0.928006\n",
      "Gold Digger                                       0.919052\n",
      "Remix to Ignition                                 0.913630\n",
      "Angel                                             0.910224\n",
      "Yeah!                                             0.909689\n",
      "Suga Suga                                         0.907704\n"
     ]
    }
   ],
   "source": [
    "# example: It Wasn't Me, by Shaggy and Ignition - Remix\n",
    "song_ids = ['1lzr43nnXAijIGYnCT8M8H', '5dNfHmqgr128gMY2tc5CeJ']\n",
    "top_matches = wrmf_helpers.get_top_similar_from_tracks(song_factors, song_ids, n_similar=10, verbose=True)"
   ]
  },
  {
   "cell_type": "markdown",
   "metadata": {},
   "source": [
    "# (4) Example: get \"n_similar\" top songs for seed from actual test playlist"
   ]
  },
  {
   "cell_type": "code",
   "execution_count": 7,
   "metadata": {},
   "outputs": [],
   "source": [
    "filename = '/Users/mabasta/Desktop/CS109a/playlist-generation/data/Songs/songs501.csv'\n",
    "cols_ignore = ['pos', 'artist_name', 'artist_uri', 'track_name', 'album_uri', 'duration_ms', 'album_name']\n",
    "df = pd.read_csv(filename).drop(columns = cols_ignore)"
   ]
  },
  {
   "cell_type": "code",
   "execution_count": 8,
   "metadata": {},
   "outputs": [
    {
     "name": "stdout",
     "output_type": "stream",
     "text": [
      "My Girl (feat. T. Gatez)\n",
      "New Religion\n",
      "Broad Shoulders (feat. Chance the Rapper)\n",
      "Free\n",
      "She Moves In Her Own Way\n",
      "Don't Take the Money\n",
      "that one song\n",
      "Lovely\n",
      "Always Like This\n",
      "Twice\n",
      "Caroline\n",
      "Never Seen Anything \"Quite Like You\"\n",
      "Sunshine & Kool-Aid\n",
      "No Such Thing\n",
      "Heart's Content\n",
      "Smoke and Mirrors\n",
      "Best For Last\n",
      "90210 (feat. G-Eazy)\n",
      "Spaces\n",
      "Milk & Honey\n",
      "Don't Dream It's Over\n",
      "Lover Come Back\n",
      "A Dream Is A Wish Your Heart Makes\n"
     ]
    }
   ],
   "source": [
    "# print out the playlist\n",
    "sample_playlists = [group.track_uri for _, group in df.groupby('pid')]\n",
    "test_playlist = sample_playlists[0]\n",
    "test_playlist = test_playlist.str.replace('spotify:track:', '')\n",
    "\n",
    "for tid in test_playlist:\n",
    "    print(wrmf_helpers.get_song_name(tid))"
   ]
  },
  {
   "cell_type": "code",
   "execution_count": 9,
   "metadata": {},
   "outputs": [
    {
     "name": "stdout",
     "output_type": "stream",
     "text": [
      "Found 9 overlaps:\n",
      "Sunshine & Kool-Aid\n",
      "that one song\n",
      "Lovely\n",
      "New Religion\n",
      "A Dream Is A Wish Your Heart Makes\n",
      "Caroline\n",
      "Milk & Honey\n",
      "My Girl (feat. T. Gatez)\n",
      "Free\n"
     ]
    }
   ],
   "source": [
    "# get similar using song to song\n",
    "seed_ids = list(test_playlist[:2])\n",
    "top_matches = wrmf_helpers.get_top_similar_from_tracks(\n",
    "    song_factors,\n",
    "    seed_ids,\n",
    "    n_similar=20000,\n",
    "    verbose=False\n",
    ")\n",
    "overlaps = set(test_playlist).intersection(set(top_matches))\n",
    "print(f\"Found {len(overlaps)} overlaps:\")\n",
    "for overlap in overlaps:\n",
    "    print(wrmf_helpers.get_song_name(overlap))"
   ]
  },
  {
   "cell_type": "code",
   "execution_count": 10,
   "metadata": {},
   "outputs": [
    {
     "name": "stdout",
     "output_type": "stream",
     "text": [
      "Found 14 overlaps:\n",
      "Sunshine & Kool-Aid\n",
      "that one song\n",
      "New Religion\n",
      "She Moves In Her Own Way\n",
      "Twice\n",
      "Lover Come Back\n",
      "Always Like This\n",
      "Caroline\n",
      "No Such Thing\n",
      "Milk & Honey\n",
      "Broad Shoulders (feat. Chance the Rapper)\n",
      "My Girl (feat. T. Gatez)\n",
      "90210 (feat. G-Eazy)\n",
      "Smoke and Mirrors\n"
     ]
    }
   ],
   "source": [
    "# get similar using playlist to song\n",
    "top_matches = wrmf_helpers.get_top_similar_from_playlists(\n",
    "    song_factors,\n",
    "    playlist_factors,\n",
    "    seed_ids,\n",
    "    n_similar_songs=20000,\n",
    "    n_similar_playlists=200\n",
    ")\n",
    "overlaps = set(test_playlist).intersection(set(top_matches))\n",
    "print(f\"Found {len(overlaps)} overlaps:\")\n",
    "for overlap in overlaps:\n",
    "    print(wrmf_helpers.get_song_name(overlap))"
   ]
  },
  {
   "cell_type": "code",
   "execution_count": 11,
   "metadata": {},
   "outputs": [
    {
     "name": "stdout",
     "output_type": "stream",
     "text": [
      "Found 16 overlaps:\n",
      "Sunshine & Kool-Aid\n",
      "that one song\n",
      "New Religion\n",
      "She Moves In Her Own Way\n",
      "Twice\n",
      "Never Seen Anything \"Quite Like You\"\n",
      "Lover Come Back\n",
      "Always Like This\n",
      "Caroline\n",
      "No Such Thing\n",
      "Heart's Content\n",
      "Milk & Honey\n",
      "Broad Shoulders (feat. Chance the Rapper)\n",
      "My Girl (feat. T. Gatez)\n",
      "90210 (feat. G-Eazy)\n",
      "Smoke and Mirrors\n"
     ]
    }
   ],
   "source": [
    "# get similar using ensemble playlist and song\n",
    "\n",
    "top_matches = wrmf_helpers.get_top_similar_from_ensemble(\n",
    "    song_factors,\n",
    "    playlist_factors,\n",
    "    seed_ids,\n",
    "    n_similar_songs=20000,\n",
    "    n_similar_playlists=200\n",
    ")\n",
    "overlaps = set(test_playlist).intersection(set(top_matches))\n",
    "print(f\"Found {len(overlaps)} overlaps:\")\n",
    "for overlap in overlaps:\n",
    "    print(wrmf_helpers.get_song_name(overlap))"
   ]
  }
 ],
 "metadata": {
  "kernelspec": {
   "display_name": "Python 3",
   "language": "python",
   "name": "python3"
  },
  "language_info": {
   "codemirror_mode": {
    "name": "ipython",
    "version": 3
   },
   "file_extension": ".py",
   "mimetype": "text/x-python",
   "name": "python",
   "nbconvert_exporter": "python",
   "pygments_lexer": "ipython3",
   "version": "3.7.4"
  }
 },
 "nbformat": 4,
 "nbformat_minor": 2
}
