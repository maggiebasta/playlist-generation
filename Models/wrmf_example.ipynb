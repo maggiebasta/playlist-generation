{
 "cells": [
  {
   "cell_type": "code",
   "execution_count": 3,
   "metadata": {},
   "outputs": [],
   "source": [
    "import pandas as pd\n",
    "import numpy as np\n",
    "import scipy.sparse as sparse\n",
    "from sklearn.metrics import mean_squared_error\n",
    "import os\n",
    "import sys\n",
    "import pickle\n",
    "import itertools\n",
    "\n",
    "sys.path.append('../Models')\n",
    "sys.path.append('../')\n",
    "\n",
    "import wrmf, wrmf_helpers\n",
    "from settings import PATH_TO_SPARSE_MATRIX"
   ]
  },
  {
   "cell_type": "markdown",
   "metadata": {},
   "source": [
    "# (1) Compute the wrmf factors "
   ]
  },
  {
   "cell_type": "code",
   "execution_count": 4,
   "metadata": {},
   "outputs": [
    {
     "data": {
      "text/plain": [
       "'\\nNOTE: ONLY RUN THIS IF YOU WANT TO RECOMPUTE WRMF WITH NEW PARAMS.\\nOTHERWISE USE PRECOMPUTED FACTORIZATION (STORED LOCALLY/IN DRIVE)\\n'"
      ]
     },
     "execution_count": 4,
     "metadata": {},
     "output_type": "execute_result"
    }
   ],
   "source": [
    "\"\"\"\n",
    "NOTE: ONLY RUN THIS IF YOU WANT TO RECOMPUTE WRMF WITH NEW PARAMS.\n",
    "OTHERWISE USE PRECOMPUTED FACTORIZATION (STORED LOCALLY/IN DRIVE)\n",
    "\"\"\"\n",
    "# params = {\n",
    "#     'factors': 20,\n",
    "#     'reg': 0.1,\n",
    "#     'iters': 20,\n",
    "#     'alpha': 15\n",
    "# }\n",
    "# song_factors = wrmf_helpers.get_fitted_wrmf(PATH_TO_SPARSE_MATRIX, params)"
   ]
  },
  {
   "cell_type": "markdown",
   "metadata": {},
   "source": [
    "# (2) Get the song factorization "
   ]
  },
  {
   "cell_type": "code",
   "execution_count": 5,
   "metadata": {},
   "outputs": [],
   "source": [
    "with open('wrmf_song_factors.pickle', 'rb') as f:\n",
    "    song_factors = pickle.load(f)"
   ]
  },
  {
   "cell_type": "markdown",
   "metadata": {},
   "source": [
    "# (3) Get \"n_similar\" top songs from wrmf "
   ]
  },
  {
   "cell_type": "code",
   "execution_count": 9,
   "metadata": {},
   "outputs": [
    {
     "name": "stdout",
     "output_type": "stream",
     "text": [
      "\n",
      "Recommended Songs for It Wasn't Me\n",
      "------------------------------------------------------------\n",
      "Track Name                                        Score\n",
      "------------------------------------------------------------\n",
      "It Wasn't Me                                      1.000000\n",
      "Ignition - Remix                                  0.979100\n",
      "Ride Wit Me                                       0.961078\n",
      "Ms. Jackson                                       0.936374\n",
      "Gold Digger                                       0.935728\n",
      "Buy U a Drank (Shawty Snappin') (feat. Yung Joc)  0.928783\n",
      "It Wasn't Me                                      0.924053\n",
      "Hey Ya!                                           0.923784\n",
      "Yeah!                                             0.922160\n",
      "Remix to Ignition                                 0.921355\n"
     ]
    }
   ],
   "source": [
    "# example: It Wasn't Me, by Shaggy\n",
    "song_id = '1lzr43nnXAijIGYnCT8M8H'\n",
    "top_matches = wrmf_helpers.get_top_tracks(song_factors, song_id, n_similar=10, verbose=True)"
   ]
  },
  {
   "cell_type": "code",
   "execution_count": null,
   "metadata": {},
   "outputs": [],
   "source": []
  }
 ],
 "metadata": {
  "kernelspec": {
   "display_name": "Python 3",
   "language": "python",
   "name": "python3"
  },
  "language_info": {
   "codemirror_mode": {
    "name": "ipython",
    "version": 3
   },
   "file_extension": ".py",
   "mimetype": "text/x-python",
   "name": "python",
   "nbconvert_exporter": "python",
   "pygments_lexer": "ipython3",
   "version": "3.7.4"
  }
 },
 "nbformat": 4,
 "nbformat_minor": 2
}
