{
 "cells": [
  {
   "cell_type": "code",
   "execution_count": 1,
   "metadata": {},
   "outputs": [],
   "source": [
    "import pandas as pd\n",
    "import numpy as np\n",
    "import scipy.sparse as sparse\n",
    "from sklearn.metrics import mean_squared_error\n",
    "import os\n",
    "import sys\n",
    "import pickle\n",
    "import itertools\n",
    "\n",
    "sys.path.append('../Models')\n",
    "sys.path.append('../')\n",
    "\n",
    "import wrmf, wrmf_helpers\n",
    "from settings import PATH_TO_SPARSE_MATRIX"
   ]
  },
  {
   "cell_type": "markdown",
   "metadata": {},
   "source": [
    "# (1) Compute the wrmf factors "
   ]
  },
  {
   "cell_type": "code",
   "execution_count": 2,
   "metadata": {},
   "outputs": [
    {
     "data": {
      "text/plain": [
       "'\\nNOTE: ONLY RUN THIS IF YOU WANT TO RECOMPUTE WRMF WITH NEW PARAMS.\\nOTHERWISE USE PRECOMPUTED FACTORIZATION (STORED LOCALLY/IN DRIVE)\\n'"
      ]
     },
     "execution_count": 2,
     "metadata": {},
     "output_type": "execute_result"
    }
   ],
   "source": [
    "\"\"\"\n",
    "NOTE: ONLY RUN THIS IF YOU WANT TO RECOMPUTE WRMF WITH NEW PARAMS.\n",
    "OTHERWISE USE PRECOMPUTED FACTORIZATION (STORED LOCALLY/IN DRIVE)\n",
    "\"\"\"\n",
    "# params = {\n",
    "#     'factors': 20,\n",
    "#     'reg': 0.1,\n",
    "#     'iters': 20,\n",
    "#     'alpha': 15\n",
    "# }\n",
    "# song_factors = wrmf_helpers.get_fitted_wrmf(PATH_TO_SPARSE_MATRIX, params)"
   ]
  },
  {
   "cell_type": "markdown",
   "metadata": {},
   "source": [
    "# (2) Get the song factorization "
   ]
  },
  {
   "cell_type": "code",
   "execution_count": 3,
   "metadata": {},
   "outputs": [],
   "source": [
    "with open('wrmf_song_factors.pickle', 'rb') as f:\n",
    "    song_factors = pickle.load(f)"
   ]
  },
  {
   "cell_type": "markdown",
   "metadata": {},
   "source": [
    "# (3) Get \"n_similar\" top songs from wrmf "
   ]
  },
  {
   "cell_type": "code",
   "execution_count": 4,
   "metadata": {},
   "outputs": [
    {
     "name": "stdout",
     "output_type": "stream",
     "text": [
      "\n",
      "Recommended Songs for [\"It Wasn't Me\", 'Ignition - Remix']\n",
      "------------------------------------------------------------\n",
      "Track Name                                        Score\n",
      "------------------------------------------------------------\n",
      "Ignition - Remix                                  0.990172\n",
      "It Wasn't Me                                      0.988927\n",
      "Ride Wit Me                                       0.954857\n",
      "Gold Digger                                       0.932842\n",
      "Buy U a Drank (Shawty Snappin') (feat. Yung Joc)  0.930893\n",
      "Yeah!                                             0.928637\n",
      "Ms. Jackson                                       0.926211\n",
      "It Wasn't Me                                      0.924964\n",
      "Hey Ya!                                           0.922270\n",
      "Promiscuous                                       0.921835\n"
     ]
    }
   ],
   "source": [
    "# example: It Wasn't Me, by Shaggy and Ignition - Remix\n",
    "song_ids = ['1lzr43nnXAijIGYnCT8M8H', '5dNfHmqgr128gMY2tc5CeJ']\n",
    "top_matches = wrmf_helpers.get_top_tracks(song_factors, song_ids, n_similar=10, verbose=True)"
   ]
  }
 ],
 "metadata": {
  "kernelspec": {
   "display_name": "Python 3",
   "language": "python",
   "name": "python3"
  },
  "language_info": {
   "codemirror_mode": {
    "name": "ipython",
    "version": 3
   },
   "file_extension": ".py",
   "mimetype": "text/x-python",
   "name": "python",
   "nbconvert_exporter": "python",
   "pygments_lexer": "ipython3",
   "version": "3.7.4"
  }
 },
 "nbformat": 4,
 "nbformat_minor": 2
}
